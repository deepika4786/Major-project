{
  "nbformat": 4,
  "nbformat_minor": 0,
  "metadata": {
    "colab": {
      "provenance": [],
      "authorship_tag": "ABX9TyOrYFgXhsBCUnTzPBjwAHyD",
      "include_colab_link": true
    },
    "kernelspec": {
      "name": "python3",
      "display_name": "Python 3"
    },
    "language_info": {
      "name": "python"
    }
  },
  "cells": [
    {
      "cell_type": "markdown",
      "metadata": {
        "id": "view-in-github",
        "colab_type": "text"
      },
      "source": [
        "<a href=\"https://colab.research.google.com/github/deepika4786/Major-project/blob/main/Major_project.ipynb\" target=\"_parent\"><img src=\"https://colab.research.google.com/assets/colab-badge.svg\" alt=\"Open In Colab\"/></a>"
      ]
    },
    {
      "cell_type": "code",
      "execution_count": null,
      "metadata": {
        "colab": {
          "base_uri": "https://localhost:8080/",
          "height": 424
        },
        "id": "9LVAzxtMipW3",
        "outputId": "16d36002-e84f-4960-9938-383390432ee0"
      },
      "outputs": [
        {
          "output_type": "execute_result",
          "data": {
            "text/plain": [
              "           Date  Confirmed  Recovered   Deaths  Increase rate\n",
              "0    2020-01-22        557         30       17            NaN\n",
              "1    2020-01-23        657         32       18      17.953321\n",
              "2    2020-01-24        944         39       26      43.683409\n",
              "3    2020-01-25       1437         42       42      52.224576\n",
              "4    2020-01-26       2120         56       56      47.529576\n",
              "..          ...        ...        ...      ...            ...\n",
              "811  2022-04-12  500880363          0  6185040       0.207437\n",
              "812  2022-04-13  501920234          0  6189593       0.207609\n",
              "813  2022-04-14  502892186          0  6193401       0.193647\n",
              "814  2022-04-15  503606396          0  6195647       0.142021\n",
              "815  2022-04-16  504155459          0  6197159       0.109026\n",
              "\n",
              "[816 rows x 5 columns]"
            ],
            "text/html": [
              "\n",
              "  <div id=\"df-fac33df7-7e91-42b5-8d5d-56b6fd9c7eef\">\n",
              "    <div class=\"colab-df-container\">\n",
              "      <div>\n",
              "<style scoped>\n",
              "    .dataframe tbody tr th:only-of-type {\n",
              "        vertical-align: middle;\n",
              "    }\n",
              "\n",
              "    .dataframe tbody tr th {\n",
              "        vertical-align: top;\n",
              "    }\n",
              "\n",
              "    .dataframe thead th {\n",
              "        text-align: right;\n",
              "    }\n",
              "</style>\n",
              "<table border=\"1\" class=\"dataframe\">\n",
              "  <thead>\n",
              "    <tr style=\"text-align: right;\">\n",
              "      <th></th>\n",
              "      <th>Date</th>\n",
              "      <th>Confirmed</th>\n",
              "      <th>Recovered</th>\n",
              "      <th>Deaths</th>\n",
              "      <th>Increase rate</th>\n",
              "    </tr>\n",
              "  </thead>\n",
              "  <tbody>\n",
              "    <tr>\n",
              "      <th>0</th>\n",
              "      <td>2020-01-22</td>\n",
              "      <td>557</td>\n",
              "      <td>30</td>\n",
              "      <td>17</td>\n",
              "      <td>NaN</td>\n",
              "    </tr>\n",
              "    <tr>\n",
              "      <th>1</th>\n",
              "      <td>2020-01-23</td>\n",
              "      <td>657</td>\n",
              "      <td>32</td>\n",
              "      <td>18</td>\n",
              "      <td>17.953321</td>\n",
              "    </tr>\n",
              "    <tr>\n",
              "      <th>2</th>\n",
              "      <td>2020-01-24</td>\n",
              "      <td>944</td>\n",
              "      <td>39</td>\n",
              "      <td>26</td>\n",
              "      <td>43.683409</td>\n",
              "    </tr>\n",
              "    <tr>\n",
              "      <th>3</th>\n",
              "      <td>2020-01-25</td>\n",
              "      <td>1437</td>\n",
              "      <td>42</td>\n",
              "      <td>42</td>\n",
              "      <td>52.224576</td>\n",
              "    </tr>\n",
              "    <tr>\n",
              "      <th>4</th>\n",
              "      <td>2020-01-26</td>\n",
              "      <td>2120</td>\n",
              "      <td>56</td>\n",
              "      <td>56</td>\n",
              "      <td>47.529576</td>\n",
              "    </tr>\n",
              "    <tr>\n",
              "      <th>...</th>\n",
              "      <td>...</td>\n",
              "      <td>...</td>\n",
              "      <td>...</td>\n",
              "      <td>...</td>\n",
              "      <td>...</td>\n",
              "    </tr>\n",
              "    <tr>\n",
              "      <th>811</th>\n",
              "      <td>2022-04-12</td>\n",
              "      <td>500880363</td>\n",
              "      <td>0</td>\n",
              "      <td>6185040</td>\n",
              "      <td>0.207437</td>\n",
              "    </tr>\n",
              "    <tr>\n",
              "      <th>812</th>\n",
              "      <td>2022-04-13</td>\n",
              "      <td>501920234</td>\n",
              "      <td>0</td>\n",
              "      <td>6189593</td>\n",
              "      <td>0.207609</td>\n",
              "    </tr>\n",
              "    <tr>\n",
              "      <th>813</th>\n",
              "      <td>2022-04-14</td>\n",
              "      <td>502892186</td>\n",
              "      <td>0</td>\n",
              "      <td>6193401</td>\n",
              "      <td>0.193647</td>\n",
              "    </tr>\n",
              "    <tr>\n",
              "      <th>814</th>\n",
              "      <td>2022-04-15</td>\n",
              "      <td>503606396</td>\n",
              "      <td>0</td>\n",
              "      <td>6195647</td>\n",
              "      <td>0.142021</td>\n",
              "    </tr>\n",
              "    <tr>\n",
              "      <th>815</th>\n",
              "      <td>2022-04-16</td>\n",
              "      <td>504155459</td>\n",
              "      <td>0</td>\n",
              "      <td>6197159</td>\n",
              "      <td>0.109026</td>\n",
              "    </tr>\n",
              "  </tbody>\n",
              "</table>\n",
              "<p>816 rows × 5 columns</p>\n",
              "</div>\n",
              "      <button class=\"colab-df-convert\" onclick=\"convertToInteractive('df-fac33df7-7e91-42b5-8d5d-56b6fd9c7eef')\"\n",
              "              title=\"Convert this dataframe to an interactive table.\"\n",
              "              style=\"display:none;\">\n",
              "        \n",
              "  <svg xmlns=\"http://www.w3.org/2000/svg\" height=\"24px\"viewBox=\"0 0 24 24\"\n",
              "       width=\"24px\">\n",
              "    <path d=\"M0 0h24v24H0V0z\" fill=\"none\"/>\n",
              "    <path d=\"M18.56 5.44l.94 2.06.94-2.06 2.06-.94-2.06-.94-.94-2.06-.94 2.06-2.06.94zm-11 1L8.5 8.5l.94-2.06 2.06-.94-2.06-.94L8.5 2.5l-.94 2.06-2.06.94zm10 10l.94 2.06.94-2.06 2.06-.94-2.06-.94-.94-2.06-.94 2.06-2.06.94z\"/><path d=\"M17.41 7.96l-1.37-1.37c-.4-.4-.92-.59-1.43-.59-.52 0-1.04.2-1.43.59L10.3 9.45l-7.72 7.72c-.78.78-.78 2.05 0 2.83L4 21.41c.39.39.9.59 1.41.59.51 0 1.02-.2 1.41-.59l7.78-7.78 2.81-2.81c.8-.78.8-2.07 0-2.86zM5.41 20L4 18.59l7.72-7.72 1.47 1.35L5.41 20z\"/>\n",
              "  </svg>\n",
              "      </button>\n",
              "      \n",
              "  <style>\n",
              "    .colab-df-container {\n",
              "      display:flex;\n",
              "      flex-wrap:wrap;\n",
              "      gap: 12px;\n",
              "    }\n",
              "\n",
              "    .colab-df-convert {\n",
              "      background-color: #E8F0FE;\n",
              "      border: none;\n",
              "      border-radius: 50%;\n",
              "      cursor: pointer;\n",
              "      display: none;\n",
              "      fill: #1967D2;\n",
              "      height: 32px;\n",
              "      padding: 0 0 0 0;\n",
              "      width: 32px;\n",
              "    }\n",
              "\n",
              "    .colab-df-convert:hover {\n",
              "      background-color: #E2EBFA;\n",
              "      box-shadow: 0px 1px 2px rgba(60, 64, 67, 0.3), 0px 1px 3px 1px rgba(60, 64, 67, 0.15);\n",
              "      fill: #174EA6;\n",
              "    }\n",
              "\n",
              "    [theme=dark] .colab-df-convert {\n",
              "      background-color: #3B4455;\n",
              "      fill: #D2E3FC;\n",
              "    }\n",
              "\n",
              "    [theme=dark] .colab-df-convert:hover {\n",
              "      background-color: #434B5C;\n",
              "      box-shadow: 0px 1px 3px 1px rgba(0, 0, 0, 0.15);\n",
              "      filter: drop-shadow(0px 1px 2px rgba(0, 0, 0, 0.3));\n",
              "      fill: #FFFFFF;\n",
              "    }\n",
              "  </style>\n",
              "\n",
              "      <script>\n",
              "        const buttonEl =\n",
              "          document.querySelector('#df-fac33df7-7e91-42b5-8d5d-56b6fd9c7eef button.colab-df-convert');\n",
              "        buttonEl.style.display =\n",
              "          google.colab.kernel.accessAllowed ? 'block' : 'none';\n",
              "\n",
              "        async function convertToInteractive(key) {\n",
              "          const element = document.querySelector('#df-fac33df7-7e91-42b5-8d5d-56b6fd9c7eef');\n",
              "          const dataTable =\n",
              "            await google.colab.kernel.invokeFunction('convertToInteractive',\n",
              "                                                     [key], {});\n",
              "          if (!dataTable) return;\n",
              "\n",
              "          const docLinkHtml = 'Like what you see? Visit the ' +\n",
              "            '<a target=\"_blank\" href=https://colab.research.google.com/notebooks/data_table.ipynb>data table notebook</a>'\n",
              "            + ' to learn more about interactive tables.';\n",
              "          element.innerHTML = '';\n",
              "          dataTable['output_type'] = 'display_data';\n",
              "          await google.colab.output.renderOutput(dataTable, element);\n",
              "          const docLink = document.createElement('div');\n",
              "          docLink.innerHTML = docLinkHtml;\n",
              "          element.appendChild(docLink);\n",
              "        }\n",
              "      </script>\n",
              "    </div>\n",
              "  </div>\n",
              "  "
            ]
          },
          "metadata": {},
          "execution_count": 1
        }
      ],
      "source": [
        "import pandas as pd\n",
        "df = pd.read_csv('https://raw.githubusercontent.com/datasets/covid-19/main/data/worldwide-aggregate.csv')\n",
        "df"
      ]
    },
    {
      "cell_type": "code",
      "source": [
        "df.shape #rows and columns"
      ],
      "metadata": {
        "colab": {
          "base_uri": "https://localhost:8080/"
        },
        "id": "cPJDdAWsjaey",
        "outputId": "51213905-5e02-4bce-b0a7-843d3ec6f4c2"
      },
      "execution_count": null,
      "outputs": [
        {
          "output_type": "execute_result",
          "data": {
            "text/plain": [
              "(816, 5)"
            ]
          },
          "metadata": {},
          "execution_count": 2
        }
      ]
    },
    {
      "cell_type": "code",
      "source": [
        "df.size # no of elements"
      ],
      "metadata": {
        "colab": {
          "base_uri": "https://localhost:8080/"
        },
        "id": "dlrvXxiWjgoX",
        "outputId": "7e213d29-e07b-49ed-f1ae-e623f19bd895"
      },
      "execution_count": null,
      "outputs": [
        {
          "output_type": "execute_result",
          "data": {
            "text/plain": [
              "4080"
            ]
          },
          "metadata": {},
          "execution_count": 4
        }
      ]
    },
    {
      "cell_type": "code",
      "source": [
        "df.info() #information about the dataset"
      ],
      "metadata": {
        "colab": {
          "base_uri": "https://localhost:8080/"
        },
        "id": "DrTk1sw5jlUW",
        "outputId": "b17b101b-f540-424a-fcbd-eeb7f464051f"
      },
      "execution_count": null,
      "outputs": [
        {
          "output_type": "stream",
          "name": "stdout",
          "text": [
            "<class 'pandas.core.frame.DataFrame'>\n",
            "RangeIndex: 816 entries, 0 to 815\n",
            "Data columns (total 5 columns):\n",
            " #   Column         Non-Null Count  Dtype  \n",
            "---  ------         --------------  -----  \n",
            " 0   Date           816 non-null    object \n",
            " 1   Confirmed      816 non-null    int64  \n",
            " 2   Recovered      816 non-null    int64  \n",
            " 3   Deaths         816 non-null    int64  \n",
            " 4   Increase rate  815 non-null    float64\n",
            "dtypes: float64(1), int64(3), object(1)\n",
            "memory usage: 32.0+ KB\n"
          ]
        }
      ]
    },
    {
      "cell_type": "code",
      "source": [
        "df.isnull().sum()"
      ],
      "metadata": {
        "colab": {
          "base_uri": "https://localhost:8080/"
        },
        "id": "HA30d5L1jxLo",
        "outputId": "34ab9c28-e01b-4084-afd1-d7f6ae42d6ba"
      },
      "execution_count": null,
      "outputs": [
        {
          "output_type": "execute_result",
          "data": {
            "text/plain": [
              "Date             0\n",
              "Confirmed        0\n",
              "Recovered        0\n",
              "Deaths           0\n",
              "Increase rate    1\n",
              "dtype: int64"
            ]
          },
          "metadata": {},
          "execution_count": 7
        }
      ]
    },
    {
      "cell_type": "code",
      "source": [
        "#cleaning the data\n",
        "df.dropna(inplace=True)\n",
        "df.isnull().sum()"
      ],
      "metadata": {
        "colab": {
          "base_uri": "https://localhost:8080/"
        },
        "id": "hQxaZ_IimUiG",
        "outputId": "0d53fa89-8c38-4bdd-9222-aec7137efe11"
      },
      "execution_count": null,
      "outputs": [
        {
          "output_type": "execute_result",
          "data": {
            "text/plain": [
              "Date             0\n",
              "Confirmed        0\n",
              "Recovered        0\n",
              "Deaths           0\n",
              "Increase rate    0\n",
              "dtype: int64"
            ]
          },
          "metadata": {},
          "execution_count": 9
        }
      ]
    },
    {
      "cell_type": "code",
      "source": [
        "df.head()"
      ],
      "metadata": {
        "colab": {
          "base_uri": "https://localhost:8080/",
          "height": 206
        },
        "id": "Cj9I_pxemkWi",
        "outputId": "b917e3dd-ede9-4637-da8b-9b86aba2fe64"
      },
      "execution_count": null,
      "outputs": [
        {
          "output_type": "execute_result",
          "data": {
            "text/plain": [
              "         Date  Confirmed  Recovered  Deaths  Increase rate\n",
              "1  2020-01-23        657         32      18      17.953321\n",
              "2  2020-01-24        944         39      26      43.683409\n",
              "3  2020-01-25       1437         42      42      52.224576\n",
              "4  2020-01-26       2120         56      56      47.529576\n",
              "5  2020-01-27       2929         65      82      38.160377"
            ],
            "text/html": [
              "\n",
              "  <div id=\"df-08e1adf1-f679-4b4f-a998-2bb3c64edcd3\">\n",
              "    <div class=\"colab-df-container\">\n",
              "      <div>\n",
              "<style scoped>\n",
              "    .dataframe tbody tr th:only-of-type {\n",
              "        vertical-align: middle;\n",
              "    }\n",
              "\n",
              "    .dataframe tbody tr th {\n",
              "        vertical-align: top;\n",
              "    }\n",
              "\n",
              "    .dataframe thead th {\n",
              "        text-align: right;\n",
              "    }\n",
              "</style>\n",
              "<table border=\"1\" class=\"dataframe\">\n",
              "  <thead>\n",
              "    <tr style=\"text-align: right;\">\n",
              "      <th></th>\n",
              "      <th>Date</th>\n",
              "      <th>Confirmed</th>\n",
              "      <th>Recovered</th>\n",
              "      <th>Deaths</th>\n",
              "      <th>Increase rate</th>\n",
              "    </tr>\n",
              "  </thead>\n",
              "  <tbody>\n",
              "    <tr>\n",
              "      <th>1</th>\n",
              "      <td>2020-01-23</td>\n",
              "      <td>657</td>\n",
              "      <td>32</td>\n",
              "      <td>18</td>\n",
              "      <td>17.953321</td>\n",
              "    </tr>\n",
              "    <tr>\n",
              "      <th>2</th>\n",
              "      <td>2020-01-24</td>\n",
              "      <td>944</td>\n",
              "      <td>39</td>\n",
              "      <td>26</td>\n",
              "      <td>43.683409</td>\n",
              "    </tr>\n",
              "    <tr>\n",
              "      <th>3</th>\n",
              "      <td>2020-01-25</td>\n",
              "      <td>1437</td>\n",
              "      <td>42</td>\n",
              "      <td>42</td>\n",
              "      <td>52.224576</td>\n",
              "    </tr>\n",
              "    <tr>\n",
              "      <th>4</th>\n",
              "      <td>2020-01-26</td>\n",
              "      <td>2120</td>\n",
              "      <td>56</td>\n",
              "      <td>56</td>\n",
              "      <td>47.529576</td>\n",
              "    </tr>\n",
              "    <tr>\n",
              "      <th>5</th>\n",
              "      <td>2020-01-27</td>\n",
              "      <td>2929</td>\n",
              "      <td>65</td>\n",
              "      <td>82</td>\n",
              "      <td>38.160377</td>\n",
              "    </tr>\n",
              "  </tbody>\n",
              "</table>\n",
              "</div>\n",
              "      <button class=\"colab-df-convert\" onclick=\"convertToInteractive('df-08e1adf1-f679-4b4f-a998-2bb3c64edcd3')\"\n",
              "              title=\"Convert this dataframe to an interactive table.\"\n",
              "              style=\"display:none;\">\n",
              "        \n",
              "  <svg xmlns=\"http://www.w3.org/2000/svg\" height=\"24px\"viewBox=\"0 0 24 24\"\n",
              "       width=\"24px\">\n",
              "    <path d=\"M0 0h24v24H0V0z\" fill=\"none\"/>\n",
              "    <path d=\"M18.56 5.44l.94 2.06.94-2.06 2.06-.94-2.06-.94-.94-2.06-.94 2.06-2.06.94zm-11 1L8.5 8.5l.94-2.06 2.06-.94-2.06-.94L8.5 2.5l-.94 2.06-2.06.94zm10 10l.94 2.06.94-2.06 2.06-.94-2.06-.94-.94-2.06-.94 2.06-2.06.94z\"/><path d=\"M17.41 7.96l-1.37-1.37c-.4-.4-.92-.59-1.43-.59-.52 0-1.04.2-1.43.59L10.3 9.45l-7.72 7.72c-.78.78-.78 2.05 0 2.83L4 21.41c.39.39.9.59 1.41.59.51 0 1.02-.2 1.41-.59l7.78-7.78 2.81-2.81c.8-.78.8-2.07 0-2.86zM5.41 20L4 18.59l7.72-7.72 1.47 1.35L5.41 20z\"/>\n",
              "  </svg>\n",
              "      </button>\n",
              "      \n",
              "  <style>\n",
              "    .colab-df-container {\n",
              "      display:flex;\n",
              "      flex-wrap:wrap;\n",
              "      gap: 12px;\n",
              "    }\n",
              "\n",
              "    .colab-df-convert {\n",
              "      background-color: #E8F0FE;\n",
              "      border: none;\n",
              "      border-radius: 50%;\n",
              "      cursor: pointer;\n",
              "      display: none;\n",
              "      fill: #1967D2;\n",
              "      height: 32px;\n",
              "      padding: 0 0 0 0;\n",
              "      width: 32px;\n",
              "    }\n",
              "\n",
              "    .colab-df-convert:hover {\n",
              "      background-color: #E2EBFA;\n",
              "      box-shadow: 0px 1px 2px rgba(60, 64, 67, 0.3), 0px 1px 3px 1px rgba(60, 64, 67, 0.15);\n",
              "      fill: #174EA6;\n",
              "    }\n",
              "\n",
              "    [theme=dark] .colab-df-convert {\n",
              "      background-color: #3B4455;\n",
              "      fill: #D2E3FC;\n",
              "    }\n",
              "\n",
              "    [theme=dark] .colab-df-convert:hover {\n",
              "      background-color: #434B5C;\n",
              "      box-shadow: 0px 1px 3px 1px rgba(0, 0, 0, 0.15);\n",
              "      filter: drop-shadow(0px 1px 2px rgba(0, 0, 0, 0.3));\n",
              "      fill: #FFFFFF;\n",
              "    }\n",
              "  </style>\n",
              "\n",
              "      <script>\n",
              "        const buttonEl =\n",
              "          document.querySelector('#df-08e1adf1-f679-4b4f-a998-2bb3c64edcd3 button.colab-df-convert');\n",
              "        buttonEl.style.display =\n",
              "          google.colab.kernel.accessAllowed ? 'block' : 'none';\n",
              "\n",
              "        async function convertToInteractive(key) {\n",
              "          const element = document.querySelector('#df-08e1adf1-f679-4b4f-a998-2bb3c64edcd3');\n",
              "          const dataTable =\n",
              "            await google.colab.kernel.invokeFunction('convertToInteractive',\n",
              "                                                     [key], {});\n",
              "          if (!dataTable) return;\n",
              "\n",
              "          const docLinkHtml = 'Like what you see? Visit the ' +\n",
              "            '<a target=\"_blank\" href=https://colab.research.google.com/notebooks/data_table.ipynb>data table notebook</a>'\n",
              "            + ' to learn more about interactive tables.';\n",
              "          element.innerHTML = '';\n",
              "          dataTable['output_type'] = 'display_data';\n",
              "          await google.colab.output.renderOutput(dataTable, element);\n",
              "          const docLink = document.createElement('div');\n",
              "          docLink.innerHTML = docLinkHtml;\n",
              "          element.appendChild(docLink);\n",
              "        }\n",
              "      </script>\n",
              "    </div>\n",
              "  </div>\n",
              "  "
            ]
          },
          "metadata": {},
          "execution_count": 10
        }
      ]
    },
    {
      "cell_type": "code",
      "source": [
        "df.tail()"
      ],
      "metadata": {
        "colab": {
          "base_uri": "https://localhost:8080/",
          "height": 206
        },
        "id": "Ndk4Iy1JmwmQ",
        "outputId": "23707b34-d9d4-4ca8-8106-7fa59b3a7f85"
      },
      "execution_count": null,
      "outputs": [
        {
          "output_type": "execute_result",
          "data": {
            "text/plain": [
              "           Date  Confirmed  Recovered   Deaths  Increase rate\n",
              "811  2022-04-12  500880363          0  6185040       0.207437\n",
              "812  2022-04-13  501920234          0  6189593       0.207609\n",
              "813  2022-04-14  502892186          0  6193401       0.193647\n",
              "814  2022-04-15  503606396          0  6195647       0.142021\n",
              "815  2022-04-16  504155459          0  6197159       0.109026"
            ],
            "text/html": [
              "\n",
              "  <div id=\"df-559f80d7-669a-4216-8cde-2c8245f9fa85\">\n",
              "    <div class=\"colab-df-container\">\n",
              "      <div>\n",
              "<style scoped>\n",
              "    .dataframe tbody tr th:only-of-type {\n",
              "        vertical-align: middle;\n",
              "    }\n",
              "\n",
              "    .dataframe tbody tr th {\n",
              "        vertical-align: top;\n",
              "    }\n",
              "\n",
              "    .dataframe thead th {\n",
              "        text-align: right;\n",
              "    }\n",
              "</style>\n",
              "<table border=\"1\" class=\"dataframe\">\n",
              "  <thead>\n",
              "    <tr style=\"text-align: right;\">\n",
              "      <th></th>\n",
              "      <th>Date</th>\n",
              "      <th>Confirmed</th>\n",
              "      <th>Recovered</th>\n",
              "      <th>Deaths</th>\n",
              "      <th>Increase rate</th>\n",
              "    </tr>\n",
              "  </thead>\n",
              "  <tbody>\n",
              "    <tr>\n",
              "      <th>811</th>\n",
              "      <td>2022-04-12</td>\n",
              "      <td>500880363</td>\n",
              "      <td>0</td>\n",
              "      <td>6185040</td>\n",
              "      <td>0.207437</td>\n",
              "    </tr>\n",
              "    <tr>\n",
              "      <th>812</th>\n",
              "      <td>2022-04-13</td>\n",
              "      <td>501920234</td>\n",
              "      <td>0</td>\n",
              "      <td>6189593</td>\n",
              "      <td>0.207609</td>\n",
              "    </tr>\n",
              "    <tr>\n",
              "      <th>813</th>\n",
              "      <td>2022-04-14</td>\n",
              "      <td>502892186</td>\n",
              "      <td>0</td>\n",
              "      <td>6193401</td>\n",
              "      <td>0.193647</td>\n",
              "    </tr>\n",
              "    <tr>\n",
              "      <th>814</th>\n",
              "      <td>2022-04-15</td>\n",
              "      <td>503606396</td>\n",
              "      <td>0</td>\n",
              "      <td>6195647</td>\n",
              "      <td>0.142021</td>\n",
              "    </tr>\n",
              "    <tr>\n",
              "      <th>815</th>\n",
              "      <td>2022-04-16</td>\n",
              "      <td>504155459</td>\n",
              "      <td>0</td>\n",
              "      <td>6197159</td>\n",
              "      <td>0.109026</td>\n",
              "    </tr>\n",
              "  </tbody>\n",
              "</table>\n",
              "</div>\n",
              "      <button class=\"colab-df-convert\" onclick=\"convertToInteractive('df-559f80d7-669a-4216-8cde-2c8245f9fa85')\"\n",
              "              title=\"Convert this dataframe to an interactive table.\"\n",
              "              style=\"display:none;\">\n",
              "        \n",
              "  <svg xmlns=\"http://www.w3.org/2000/svg\" height=\"24px\"viewBox=\"0 0 24 24\"\n",
              "       width=\"24px\">\n",
              "    <path d=\"M0 0h24v24H0V0z\" fill=\"none\"/>\n",
              "    <path d=\"M18.56 5.44l.94 2.06.94-2.06 2.06-.94-2.06-.94-.94-2.06-.94 2.06-2.06.94zm-11 1L8.5 8.5l.94-2.06 2.06-.94-2.06-.94L8.5 2.5l-.94 2.06-2.06.94zm10 10l.94 2.06.94-2.06 2.06-.94-2.06-.94-.94-2.06-.94 2.06-2.06.94z\"/><path d=\"M17.41 7.96l-1.37-1.37c-.4-.4-.92-.59-1.43-.59-.52 0-1.04.2-1.43.59L10.3 9.45l-7.72 7.72c-.78.78-.78 2.05 0 2.83L4 21.41c.39.39.9.59 1.41.59.51 0 1.02-.2 1.41-.59l7.78-7.78 2.81-2.81c.8-.78.8-2.07 0-2.86zM5.41 20L4 18.59l7.72-7.72 1.47 1.35L5.41 20z\"/>\n",
              "  </svg>\n",
              "      </button>\n",
              "      \n",
              "  <style>\n",
              "    .colab-df-container {\n",
              "      display:flex;\n",
              "      flex-wrap:wrap;\n",
              "      gap: 12px;\n",
              "    }\n",
              "\n",
              "    .colab-df-convert {\n",
              "      background-color: #E8F0FE;\n",
              "      border: none;\n",
              "      border-radius: 50%;\n",
              "      cursor: pointer;\n",
              "      display: none;\n",
              "      fill: #1967D2;\n",
              "      height: 32px;\n",
              "      padding: 0 0 0 0;\n",
              "      width: 32px;\n",
              "    }\n",
              "\n",
              "    .colab-df-convert:hover {\n",
              "      background-color: #E2EBFA;\n",
              "      box-shadow: 0px 1px 2px rgba(60, 64, 67, 0.3), 0px 1px 3px 1px rgba(60, 64, 67, 0.15);\n",
              "      fill: #174EA6;\n",
              "    }\n",
              "\n",
              "    [theme=dark] .colab-df-convert {\n",
              "      background-color: #3B4455;\n",
              "      fill: #D2E3FC;\n",
              "    }\n",
              "\n",
              "    [theme=dark] .colab-df-convert:hover {\n",
              "      background-color: #434B5C;\n",
              "      box-shadow: 0px 1px 3px 1px rgba(0, 0, 0, 0.15);\n",
              "      filter: drop-shadow(0px 1px 2px rgba(0, 0, 0, 0.3));\n",
              "      fill: #FFFFFF;\n",
              "    }\n",
              "  </style>\n",
              "\n",
              "      <script>\n",
              "        const buttonEl =\n",
              "          document.querySelector('#df-559f80d7-669a-4216-8cde-2c8245f9fa85 button.colab-df-convert');\n",
              "        buttonEl.style.display =\n",
              "          google.colab.kernel.accessAllowed ? 'block' : 'none';\n",
              "\n",
              "        async function convertToInteractive(key) {\n",
              "          const element = document.querySelector('#df-559f80d7-669a-4216-8cde-2c8245f9fa85');\n",
              "          const dataTable =\n",
              "            await google.colab.kernel.invokeFunction('convertToInteractive',\n",
              "                                                     [key], {});\n",
              "          if (!dataTable) return;\n",
              "\n",
              "          const docLinkHtml = 'Like what you see? Visit the ' +\n",
              "            '<a target=\"_blank\" href=https://colab.research.google.com/notebooks/data_table.ipynb>data table notebook</a>'\n",
              "            + ' to learn more about interactive tables.';\n",
              "          element.innerHTML = '';\n",
              "          dataTable['output_type'] = 'display_data';\n",
              "          await google.colab.output.renderOutput(dataTable, element);\n",
              "          const docLink = document.createElement('div');\n",
              "          docLink.innerHTML = docLinkHtml;\n",
              "          element.appendChild(docLink);\n",
              "        }\n",
              "      </script>\n",
              "    </div>\n",
              "  </div>\n",
              "  "
            ]
          },
          "metadata": {},
          "execution_count": 11
        }
      ]
    },
    {
      "cell_type": "code",
      "source": [
        "df.describe()"
      ],
      "metadata": {
        "colab": {
          "base_uri": "https://localhost:8080/",
          "height": 300
        },
        "id": "_cxVk5_8m0NH",
        "outputId": "29b8ad8c-6924-42f9-81dc-f09ac42a5e4d"
      },
      "execution_count": null,
      "outputs": [
        {
          "output_type": "execute_result",
          "data": {
            "text/plain": [
              "          Confirmed     Recovered        Deaths  Increase rate\n",
              "count  8.150000e+02  8.150000e+02  8.150000e+02     815.000000\n",
              "mean   1.459379e+08  2.882387e+07  2.775289e+06       1.810408\n",
              "std    1.374587e+08  3.908205e+07  2.059663e+06       5.453326\n",
              "min    6.570000e+02  0.000000e+00  1.800000e+01       0.109026\n",
              "25%    2.109977e+07  0.000000e+00  7.961305e+05       0.286308\n",
              "50%    1.165394e+08  4.630495e+06  2.657485e+06       0.602296\n",
              "75%    2.318873e+08  5.084054e+07  4.738422e+06       1.209718\n",
              "max    5.041555e+08  1.308991e+08  6.197159e+06      90.508706"
            ],
            "text/html": [
              "\n",
              "  <div id=\"df-c6781112-e6fb-4615-94a6-735be48ebbcf\">\n",
              "    <div class=\"colab-df-container\">\n",
              "      <div>\n",
              "<style scoped>\n",
              "    .dataframe tbody tr th:only-of-type {\n",
              "        vertical-align: middle;\n",
              "    }\n",
              "\n",
              "    .dataframe tbody tr th {\n",
              "        vertical-align: top;\n",
              "    }\n",
              "\n",
              "    .dataframe thead th {\n",
              "        text-align: right;\n",
              "    }\n",
              "</style>\n",
              "<table border=\"1\" class=\"dataframe\">\n",
              "  <thead>\n",
              "    <tr style=\"text-align: right;\">\n",
              "      <th></th>\n",
              "      <th>Confirmed</th>\n",
              "      <th>Recovered</th>\n",
              "      <th>Deaths</th>\n",
              "      <th>Increase rate</th>\n",
              "    </tr>\n",
              "  </thead>\n",
              "  <tbody>\n",
              "    <tr>\n",
              "      <th>count</th>\n",
              "      <td>8.150000e+02</td>\n",
              "      <td>8.150000e+02</td>\n",
              "      <td>8.150000e+02</td>\n",
              "      <td>815.000000</td>\n",
              "    </tr>\n",
              "    <tr>\n",
              "      <th>mean</th>\n",
              "      <td>1.459379e+08</td>\n",
              "      <td>2.882387e+07</td>\n",
              "      <td>2.775289e+06</td>\n",
              "      <td>1.810408</td>\n",
              "    </tr>\n",
              "    <tr>\n",
              "      <th>std</th>\n",
              "      <td>1.374587e+08</td>\n",
              "      <td>3.908205e+07</td>\n",
              "      <td>2.059663e+06</td>\n",
              "      <td>5.453326</td>\n",
              "    </tr>\n",
              "    <tr>\n",
              "      <th>min</th>\n",
              "      <td>6.570000e+02</td>\n",
              "      <td>0.000000e+00</td>\n",
              "      <td>1.800000e+01</td>\n",
              "      <td>0.109026</td>\n",
              "    </tr>\n",
              "    <tr>\n",
              "      <th>25%</th>\n",
              "      <td>2.109977e+07</td>\n",
              "      <td>0.000000e+00</td>\n",
              "      <td>7.961305e+05</td>\n",
              "      <td>0.286308</td>\n",
              "    </tr>\n",
              "    <tr>\n",
              "      <th>50%</th>\n",
              "      <td>1.165394e+08</td>\n",
              "      <td>4.630495e+06</td>\n",
              "      <td>2.657485e+06</td>\n",
              "      <td>0.602296</td>\n",
              "    </tr>\n",
              "    <tr>\n",
              "      <th>75%</th>\n",
              "      <td>2.318873e+08</td>\n",
              "      <td>5.084054e+07</td>\n",
              "      <td>4.738422e+06</td>\n",
              "      <td>1.209718</td>\n",
              "    </tr>\n",
              "    <tr>\n",
              "      <th>max</th>\n",
              "      <td>5.041555e+08</td>\n",
              "      <td>1.308991e+08</td>\n",
              "      <td>6.197159e+06</td>\n",
              "      <td>90.508706</td>\n",
              "    </tr>\n",
              "  </tbody>\n",
              "</table>\n",
              "</div>\n",
              "      <button class=\"colab-df-convert\" onclick=\"convertToInteractive('df-c6781112-e6fb-4615-94a6-735be48ebbcf')\"\n",
              "              title=\"Convert this dataframe to an interactive table.\"\n",
              "              style=\"display:none;\">\n",
              "        \n",
              "  <svg xmlns=\"http://www.w3.org/2000/svg\" height=\"24px\"viewBox=\"0 0 24 24\"\n",
              "       width=\"24px\">\n",
              "    <path d=\"M0 0h24v24H0V0z\" fill=\"none\"/>\n",
              "    <path d=\"M18.56 5.44l.94 2.06.94-2.06 2.06-.94-2.06-.94-.94-2.06-.94 2.06-2.06.94zm-11 1L8.5 8.5l.94-2.06 2.06-.94-2.06-.94L8.5 2.5l-.94 2.06-2.06.94zm10 10l.94 2.06.94-2.06 2.06-.94-2.06-.94-.94-2.06-.94 2.06-2.06.94z\"/><path d=\"M17.41 7.96l-1.37-1.37c-.4-.4-.92-.59-1.43-.59-.52 0-1.04.2-1.43.59L10.3 9.45l-7.72 7.72c-.78.78-.78 2.05 0 2.83L4 21.41c.39.39.9.59 1.41.59.51 0 1.02-.2 1.41-.59l7.78-7.78 2.81-2.81c.8-.78.8-2.07 0-2.86zM5.41 20L4 18.59l7.72-7.72 1.47 1.35L5.41 20z\"/>\n",
              "  </svg>\n",
              "      </button>\n",
              "      \n",
              "  <style>\n",
              "    .colab-df-container {\n",
              "      display:flex;\n",
              "      flex-wrap:wrap;\n",
              "      gap: 12px;\n",
              "    }\n",
              "\n",
              "    .colab-df-convert {\n",
              "      background-color: #E8F0FE;\n",
              "      border: none;\n",
              "      border-radius: 50%;\n",
              "      cursor: pointer;\n",
              "      display: none;\n",
              "      fill: #1967D2;\n",
              "      height: 32px;\n",
              "      padding: 0 0 0 0;\n",
              "      width: 32px;\n",
              "    }\n",
              "\n",
              "    .colab-df-convert:hover {\n",
              "      background-color: #E2EBFA;\n",
              "      box-shadow: 0px 1px 2px rgba(60, 64, 67, 0.3), 0px 1px 3px 1px rgba(60, 64, 67, 0.15);\n",
              "      fill: #174EA6;\n",
              "    }\n",
              "\n",
              "    [theme=dark] .colab-df-convert {\n",
              "      background-color: #3B4455;\n",
              "      fill: #D2E3FC;\n",
              "    }\n",
              "\n",
              "    [theme=dark] .colab-df-convert:hover {\n",
              "      background-color: #434B5C;\n",
              "      box-shadow: 0px 1px 3px 1px rgba(0, 0, 0, 0.15);\n",
              "      filter: drop-shadow(0px 1px 2px rgba(0, 0, 0, 0.3));\n",
              "      fill: #FFFFFF;\n",
              "    }\n",
              "  </style>\n",
              "\n",
              "      <script>\n",
              "        const buttonEl =\n",
              "          document.querySelector('#df-c6781112-e6fb-4615-94a6-735be48ebbcf button.colab-df-convert');\n",
              "        buttonEl.style.display =\n",
              "          google.colab.kernel.accessAllowed ? 'block' : 'none';\n",
              "\n",
              "        async function convertToInteractive(key) {\n",
              "          const element = document.querySelector('#df-c6781112-e6fb-4615-94a6-735be48ebbcf');\n",
              "          const dataTable =\n",
              "            await google.colab.kernel.invokeFunction('convertToInteractive',\n",
              "                                                     [key], {});\n",
              "          if (!dataTable) return;\n",
              "\n",
              "          const docLinkHtml = 'Like what you see? Visit the ' +\n",
              "            '<a target=\"_blank\" href=https://colab.research.google.com/notebooks/data_table.ipynb>data table notebook</a>'\n",
              "            + ' to learn more about interactive tables.';\n",
              "          element.innerHTML = '';\n",
              "          dataTable['output_type'] = 'display_data';\n",
              "          await google.colab.output.renderOutput(dataTable, element);\n",
              "          const docLink = document.createElement('div');\n",
              "          docLink.innerHTML = docLinkHtml;\n",
              "          element.appendChild(docLink);\n",
              "        }\n",
              "      </script>\n",
              "    </div>\n",
              "  </div>\n",
              "  "
            ]
          },
          "metadata": {},
          "execution_count": 13
        }
      ]
    },
    {
      "cell_type": "code",
      "source": [
        "df.columns"
      ],
      "metadata": {
        "colab": {
          "base_uri": "https://localhost:8080/"
        },
        "id": "FHk25h0doFC6",
        "outputId": "e2b89eca-688b-44a7-a380-ff2463198536"
      },
      "execution_count": null,
      "outputs": [
        {
          "output_type": "execute_result",
          "data": {
            "text/plain": [
              "Index(['Date', 'Confirmed', 'Recovered', 'Deaths', 'Increase rate'], dtype='object')"
            ]
          },
          "metadata": {},
          "execution_count": 15
        }
      ]
    },
    {
      "cell_type": "code",
      "source": [
        "df.nunique() #No of unique values"
      ],
      "metadata": {
        "colab": {
          "base_uri": "https://localhost:8080/"
        },
        "id": "WtTlfk21ogNi",
        "outputId": "5af71588-444b-4a3c-91f8-9b2808c4f8d7"
      },
      "execution_count": null,
      "outputs": [
        {
          "output_type": "execute_result",
          "data": {
            "text/plain": [
              "Date             815\n",
              "Confirmed        815\n",
              "Recovered        561\n",
              "Deaths           815\n",
              "Increase rate    815\n",
              "dtype: int64"
            ]
          },
          "metadata": {},
          "execution_count": 16
        }
      ]
    },
    {
      "cell_type": "code",
      "source": [
        "df['Deaths'].nunique()"
      ],
      "metadata": {
        "colab": {
          "base_uri": "https://localhost:8080/"
        },
        "id": "VhE4yOShom4i",
        "outputId": "11142359-bdba-4e8e-b549-93932560eb8b"
      },
      "execution_count": null,
      "outputs": [
        {
          "output_type": "execute_result",
          "data": {
            "text/plain": [
              "815"
            ]
          },
          "metadata": {},
          "execution_count": 19
        }
      ]
    },
    {
      "cell_type": "code",
      "source": [
        "df['Deaths'].unique() #uniue values in Deaths column"
      ],
      "metadata": {
        "colab": {
          "base_uri": "https://localhost:8080/"
        },
        "id": "_jf4HTIIo2_O",
        "outputId": "cdb51293-b8b7-4edd-cd4b-054e0e11ab9f"
      },
      "execution_count": null,
      "outputs": [
        {
          "output_type": "execute_result",
          "data": {
            "text/plain": [
              "array([     18,      26,      42,      56,      82,     131,     133,\n",
              "           171,     213,     259,     362,     426,     492,     564,\n",
              "           634,     719,     806,     906,    1013,    1113,    1118,\n",
              "          1371,    1523,    1666,    1770,    1868,    2008,    2123,\n",
              "          2248,    2252,    2459,    2470,    2630,    2710,    2771,\n",
              "          2814,    2873,    2943,    2997,    3086,    3160,    3255,\n",
              "          3348,    3461,    3566,    3807,    3997,    4273,    4618,\n",
              "          4930,    5420,    5843,    6496,    7178,    7989,    8907,\n",
              "         10017,   11504,   13233,   14919,   16886,   19201,   22022,\n",
              "         25058,   28538,   32374,   35838,   39895,   44661,   50714,\n",
              "         56593,   62818,   68781,   74091,   79957,   88306,   95132,\n",
              "        103003,  110565,  117084,  122922,  128975,  136189,  144551,\n",
              "        152026,  160597,  166983,  172419,  178322,  185709,  192772,\n",
              "        199676,  206617,  212567,  216860,  221730,  228524,  235484,\n",
              "        241546,  247086,  252954,  256815,  261181,  267419,  274166,\n",
              "        279841,  285765,  290382,  294434,  298258,  304137,  309590,\n",
              "        315235,  320957,  325507,  329094,  333226,  338357,  343748,\n",
              "        348701,  354391,  358772,  362256,  363762,  368384,  373744,\n",
              "        378794,  383955,  388246,  391387,  395023,  400307,  405976,\n",
              "        411408,  416538,  420638,  423764,  428095,  433202,  438638,\n",
              "        443725,  448457,  452864,  456522,  460508,  467638,  473117,\n",
              "        478443,  484794,  489232,  493820,  497614,  503191,  508663,\n",
              "        513746,  518822,  523516,  527091,  531108,  536343,  541720,\n",
              "        547195,  552434,  557196,  560995,  565214,  571595,  577225,\n",
              "        583029,  588771,  593874,  598161,  602539,  608526,  614423,\n",
              "        620588,  627582,  634080,  638971,  642893,  649249,  656622,\n",
              "        663262,  669717,  675792,  680145,  685422,  692366,  699019,\n",
              "        705765,  712354,  718356,  723008,  727807,  734978,  742360,\n",
              "        749183,  755920,  761937,  767106,  772469,  779101,  786048,\n",
              "        792840,  799421,  805439,  810225,  814842,  821893,  828302,\n",
              "        834739,  840476,  846274,  850586,  855405,  861970,  868511,\n",
              "        874717,  880534,  886339,  890600,  895016,  901614,  907908,\n",
              "        914006,  919857,  924962,  929078,  938684,  943817,  950075,\n",
              "        956075,  962068,  967111,  971055,  975643,  982216,  988076,\n",
              "        993715,  999566, 1004872, 1008828, 1013231, 1019388, 1025913,\n",
              "       1031593, 1037605, 1043037, 1046878, 1050951, 1057046, 1063488,\n",
              "       1072373, 1077969, 1082692, 1086683, 1093722, 1099576, 1105467,\n",
              "       1111833, 1118024, 1122904, 1127028, 1131078, 1136463, 1142654,\n",
              "       1148837, 1155025, 1160737, 1164590, 1169292, 1175943, 1182798,\n",
              "       1188695, 1195788, 1201651, 1205906, 1211520, 1218996, 1226179,\n",
              "       1233380, 1241057, 1247660, 1252779, 1258854, 1268427, 1278499,\n",
              "       1287166, 1296318, 1304068, 1310158, 1317391, 1327237, 1337787,\n",
              "       1347560, 1357352, 1366475, 1373087, 1380828, 1391876, 1403334,\n",
              "       1414453, 1426213, 1435353, 1442824, 1451132, 1463736, 1475890,\n",
              "       1486891, 1498394, 1507860, 1515172, 1523873, 1536532, 1549160,\n",
              "       1561779, 1574187, 1584737, 1592557, 1600972, 1613132, 1625916,\n",
              "       1638408, 1651556, 1662469, 1670406, 1679234, 1692579, 1706670,\n",
              "       1719993, 1733005, 1744311, 1752546, 1761625, 1775566, 1789509,\n",
              "       1801705, 1810601, 1818041, 1825789, 1834888, 1849717, 1865432,\n",
              "       1879122, 1889077, 1897496, 1905134, 1914530, 1929931, 1944927,\n",
              "       1959982, 1975521, 1988855, 1997796, 2007354, 2024302, 2041022,\n",
              "       2056610, 2072243, 2086164, 2095253, 2104872, 2120725, 2138868,\n",
              "       2156151, 2172232, 2186850, 2195957, 2206362, 2224173, 2241615,\n",
              "       2258177, 2273979, 2287429, 2296527, 2306150, 2321484, 2337679,\n",
              "       2350625, 2367926, 2379783, 2387143, 2396212, 2411279, 2425448,\n",
              "       2439315, 2452310, 2463034, 2469761, 2477164, 2488491, 2500087,\n",
              "       2512001, 2523693, 2532767, 2539343, 2546356, 2558026, 2570562,\n",
              "       2581421, 2591996, 2600691, 2607029, 2614416, 2624772, 2636546,\n",
              "       2647015, 2657485, 2665755, 2671692, 2678717, 2689280, 2699457,\n",
              "       2709693, 2719584, 2728176, 2733988, 2741454, 2752081, 2762677,\n",
              "       2773399, 2784225, 2793008, 2801454, 2809326, 2820817, 2831499,\n",
              "       2843056, 2855824, 2866034, 2873284, 2881882, 2893798, 2906701,\n",
              "       2918988, 2929619, 2938932, 2946314, 2954562, 2967002, 2982385,\n",
              "       2996720, 3011092, 3024124, 3033212, 3043098, 3056919, 3071018,\n",
              "       3084676, 3098064, 3110669, 3119780, 3130880, 3145202, 3159936,\n",
              "       3173812, 3189079, 3202201, 3212951, 3224541, 3239557, 3255535,\n",
              "       3271268, 3285680, 3298710, 3309013, 3320659, 3334777, 3349654,\n",
              "       3364262, 3378783, 3392088, 3402507, 3413570, 3427762, 3441913,\n",
              "       3455377, 3468377, 3480647, 3490915, 3502229, 3516310, 3529788,\n",
              "       3542965, 3555935, 3567369, 3577194, 3586314, 3599276, 3612081,\n",
              "       3625015, 3637016, 3647820, 3656202, 3664871, 3680082, 3691980,\n",
              "       3702144, 3712787, 3722183, 3729461, 3737520, 3748170, 3758323,\n",
              "       3774292, 3786030, 3795834, 3805101, 3813079, 3823828, 3833886,\n",
              "       3843207, 3852407, 3860570, 3867304, 3874286, 3883209, 3892588,\n",
              "       3901240, 3910471, 3917993, 3924070, 3930616, 3938757, 3947956,\n",
              "       3956503, 3964846, 3971764, 3978382, 3985742, 3994232, 4002771,\n",
              "       4011679, 4020050, 4026651, 4034264, 4042328, 4050711, 4059318,\n",
              "       4067943, 4076686, 4084203, 4090742, 4097881, 4118607, 4127267,\n",
              "       4136039, 4144358, 4153052, 4160384, 4168797, 4178640, 4188793,\n",
              "       4199056, 4208607, 4217440, 4224807, 4232852, 4243256, 4253756,\n",
              "       4264706, 4275153, 4283820, 4291259, 4300015, 4311606, 4322122,\n",
              "       4332626, 4343083, 4351807, 4359219, 4368979, 4379748, 4390561,\n",
              "       4402001, 4412487, 4421394, 4429082, 4439029, 4450069, 4461417,\n",
              "       4473015, 4483359, 4491807, 4498545, 4508005, 4517214, 4529702,\n",
              "       4540913, 4551613, 4559352, 4565831, 4573840, 4584328, 4594429,\n",
              "       4605142, 4614334, 4622726, 4628306, 4637341, 4647239, 4657706,\n",
              "       4668180, 4677223, 4683766, 4689794, 4697932, 4707355, 4717094,\n",
              "       4726946, 4735665, 4741180, 4746649, 4754271, 4763667, 4772938,\n",
              "       4781771, 4790395, 4796358, 4800641, 4807688, 4815096, 4824263,\n",
              "       4833182, 4840732, 4845634, 4850329, 4856064, 4864132, 4873048,\n",
              "       4881003, 4888198, 4893557, 4897845, 4904250, 4912482, 4921159,\n",
              "       4928821, 4937006, 4942892, 4947423, 4954116, 4961902, 4971047,\n",
              "       4979941, 4987742, 4993808, 4998323, 5004550, 5011705, 5020142,\n",
              "       5027749, 5036379, 5043130, 5047630, 5054205, 5062306, 5070583,\n",
              "       5078264, 5087293, 5093750, 5098387, 5105091, 5112782, 5121983,\n",
              "       5130367, 5138374, 5144616, 5149188, 5156226, 5164266, 5172889,\n",
              "       5180720, 5187603, 5193759, 5198598, 5206035, 5214076, 5223401,\n",
              "       5233564, 5242115, 5247925, 5255326, 5262171, 5270013, 5278327,\n",
              "       5286892, 5294954, 5301315, 5305892, 5312131, 5319931, 5329015,\n",
              "       5336420, 5343698, 5349753, 5354168, 5360781, 5368447, 5378823,\n",
              "       5386072, 5392175, 5396516, 5400289, 5406610, 5414187, 5422062,\n",
              "       5429648, 5436385, 5440821, 5444100, 5449830, 5457794, 5465721,\n",
              "       5473352, 5480605, 5486154, 5490156, 5496572, 5505829, 5515029,\n",
              "       5523359, 5531354, 5537758, 5542128, 5548217, 5557505, 5567559,\n",
              "       5577247, 5587202, 5593449, 5598467, 5606968, 5617692, 5628287,\n",
              "       5638821, 5651060, 5659104, 5664764, 5674484, 5688480, 5700656,\n",
              "       5712365, 5725509, 5733888, 5739758, 5750605, 5763661, 5776954,\n",
              "       5788716, 5800898, 5809724, 5814923, 5825785, 5836502, 5849486,\n",
              "       5861869, 5872514, 5881022, 5886415, 5893583, 5903733, 5915748,\n",
              "       5926525, 5935378, 5941897, 5946387, 5954001, 5962176, 5970165,\n",
              "       5978342, 5986924, 5992605, 5996677, 6004209, 6011475, 6019271,\n",
              "       6026792, 6033268, 6037979, 6041327, 6046593, 6051908, 6058692,\n",
              "       6065766, 6071185, 6075019, 6078084, 6094399, 6099303, 6105144,\n",
              "       6110404, 6119371, 6122298, 6124662, 6128734, 6133504, 6138489,\n",
              "       6143294, 6147833, 6150482, 6152101, 6155027, 6159243, 6166840,\n",
              "       6170907, 6175012, 6177309, 6178789, 6181737, 6185040, 6189593,\n",
              "       6193401, 6195647, 6197159])"
            ]
          },
          "metadata": {},
          "execution_count": 22
        }
      ]
    },
    {
      "cell_type": "code",
      "source": [
        "#Slicing\n",
        "df[2:7]"
      ],
      "metadata": {
        "colab": {
          "base_uri": "https://localhost:8080/",
          "height": 206
        },
        "id": "6D83yBKwuqqS",
        "outputId": "bab588b9-d8e1-40ad-c477-69b93911291c"
      },
      "execution_count": null,
      "outputs": [
        {
          "output_type": "execute_result",
          "data": {
            "text/plain": [
              "         Date  Confirmed  Recovered  Deaths  Increase rate\n",
              "3  2020-01-25       1437         42      42      52.224576\n",
              "4  2020-01-26       2120         56      56      47.529576\n",
              "5  2020-01-27       2929         65      82      38.160377\n",
              "6  2020-01-28       5580        108     131      90.508706\n",
              "7  2020-01-29       6169        127     133      10.555556"
            ],
            "text/html": [
              "\n",
              "  <div id=\"df-5a6b2320-043a-43de-b0f7-e2fe6de2f51b\">\n",
              "    <div class=\"colab-df-container\">\n",
              "      <div>\n",
              "<style scoped>\n",
              "    .dataframe tbody tr th:only-of-type {\n",
              "        vertical-align: middle;\n",
              "    }\n",
              "\n",
              "    .dataframe tbody tr th {\n",
              "        vertical-align: top;\n",
              "    }\n",
              "\n",
              "    .dataframe thead th {\n",
              "        text-align: right;\n",
              "    }\n",
              "</style>\n",
              "<table border=\"1\" class=\"dataframe\">\n",
              "  <thead>\n",
              "    <tr style=\"text-align: right;\">\n",
              "      <th></th>\n",
              "      <th>Date</th>\n",
              "      <th>Confirmed</th>\n",
              "      <th>Recovered</th>\n",
              "      <th>Deaths</th>\n",
              "      <th>Increase rate</th>\n",
              "    </tr>\n",
              "  </thead>\n",
              "  <tbody>\n",
              "    <tr>\n",
              "      <th>3</th>\n",
              "      <td>2020-01-25</td>\n",
              "      <td>1437</td>\n",
              "      <td>42</td>\n",
              "      <td>42</td>\n",
              "      <td>52.224576</td>\n",
              "    </tr>\n",
              "    <tr>\n",
              "      <th>4</th>\n",
              "      <td>2020-01-26</td>\n",
              "      <td>2120</td>\n",
              "      <td>56</td>\n",
              "      <td>56</td>\n",
              "      <td>47.529576</td>\n",
              "    </tr>\n",
              "    <tr>\n",
              "      <th>5</th>\n",
              "      <td>2020-01-27</td>\n",
              "      <td>2929</td>\n",
              "      <td>65</td>\n",
              "      <td>82</td>\n",
              "      <td>38.160377</td>\n",
              "    </tr>\n",
              "    <tr>\n",
              "      <th>6</th>\n",
              "      <td>2020-01-28</td>\n",
              "      <td>5580</td>\n",
              "      <td>108</td>\n",
              "      <td>131</td>\n",
              "      <td>90.508706</td>\n",
              "    </tr>\n",
              "    <tr>\n",
              "      <th>7</th>\n",
              "      <td>2020-01-29</td>\n",
              "      <td>6169</td>\n",
              "      <td>127</td>\n",
              "      <td>133</td>\n",
              "      <td>10.555556</td>\n",
              "    </tr>\n",
              "  </tbody>\n",
              "</table>\n",
              "</div>\n",
              "      <button class=\"colab-df-convert\" onclick=\"convertToInteractive('df-5a6b2320-043a-43de-b0f7-e2fe6de2f51b')\"\n",
              "              title=\"Convert this dataframe to an interactive table.\"\n",
              "              style=\"display:none;\">\n",
              "        \n",
              "  <svg xmlns=\"http://www.w3.org/2000/svg\" height=\"24px\"viewBox=\"0 0 24 24\"\n",
              "       width=\"24px\">\n",
              "    <path d=\"M0 0h24v24H0V0z\" fill=\"none\"/>\n",
              "    <path d=\"M18.56 5.44l.94 2.06.94-2.06 2.06-.94-2.06-.94-.94-2.06-.94 2.06-2.06.94zm-11 1L8.5 8.5l.94-2.06 2.06-.94-2.06-.94L8.5 2.5l-.94 2.06-2.06.94zm10 10l.94 2.06.94-2.06 2.06-.94-2.06-.94-.94-2.06-.94 2.06-2.06.94z\"/><path d=\"M17.41 7.96l-1.37-1.37c-.4-.4-.92-.59-1.43-.59-.52 0-1.04.2-1.43.59L10.3 9.45l-7.72 7.72c-.78.78-.78 2.05 0 2.83L4 21.41c.39.39.9.59 1.41.59.51 0 1.02-.2 1.41-.59l7.78-7.78 2.81-2.81c.8-.78.8-2.07 0-2.86zM5.41 20L4 18.59l7.72-7.72 1.47 1.35L5.41 20z\"/>\n",
              "  </svg>\n",
              "      </button>\n",
              "      \n",
              "  <style>\n",
              "    .colab-df-container {\n",
              "      display:flex;\n",
              "      flex-wrap:wrap;\n",
              "      gap: 12px;\n",
              "    }\n",
              "\n",
              "    .colab-df-convert {\n",
              "      background-color: #E8F0FE;\n",
              "      border: none;\n",
              "      border-radius: 50%;\n",
              "      cursor: pointer;\n",
              "      display: none;\n",
              "      fill: #1967D2;\n",
              "      height: 32px;\n",
              "      padding: 0 0 0 0;\n",
              "      width: 32px;\n",
              "    }\n",
              "\n",
              "    .colab-df-convert:hover {\n",
              "      background-color: #E2EBFA;\n",
              "      box-shadow: 0px 1px 2px rgba(60, 64, 67, 0.3), 0px 1px 3px 1px rgba(60, 64, 67, 0.15);\n",
              "      fill: #174EA6;\n",
              "    }\n",
              "\n",
              "    [theme=dark] .colab-df-convert {\n",
              "      background-color: #3B4455;\n",
              "      fill: #D2E3FC;\n",
              "    }\n",
              "\n",
              "    [theme=dark] .colab-df-convert:hover {\n",
              "      background-color: #434B5C;\n",
              "      box-shadow: 0px 1px 3px 1px rgba(0, 0, 0, 0.15);\n",
              "      filter: drop-shadow(0px 1px 2px rgba(0, 0, 0, 0.3));\n",
              "      fill: #FFFFFF;\n",
              "    }\n",
              "  </style>\n",
              "\n",
              "      <script>\n",
              "        const buttonEl =\n",
              "          document.querySelector('#df-5a6b2320-043a-43de-b0f7-e2fe6de2f51b button.colab-df-convert');\n",
              "        buttonEl.style.display =\n",
              "          google.colab.kernel.accessAllowed ? 'block' : 'none';\n",
              "\n",
              "        async function convertToInteractive(key) {\n",
              "          const element = document.querySelector('#df-5a6b2320-043a-43de-b0f7-e2fe6de2f51b');\n",
              "          const dataTable =\n",
              "            await google.colab.kernel.invokeFunction('convertToInteractive',\n",
              "                                                     [key], {});\n",
              "          if (!dataTable) return;\n",
              "\n",
              "          const docLinkHtml = 'Like what you see? Visit the ' +\n",
              "            '<a target=\"_blank\" href=https://colab.research.google.com/notebooks/data_table.ipynb>data table notebook</a>'\n",
              "            + ' to learn more about interactive tables.';\n",
              "          element.innerHTML = '';\n",
              "          dataTable['output_type'] = 'display_data';\n",
              "          await google.colab.output.renderOutput(dataTable, element);\n",
              "          const docLink = document.createElement('div');\n",
              "          docLink.innerHTML = docLinkHtml;\n",
              "          element.appendChild(docLink);\n",
              "        }\n",
              "      </script>\n",
              "    </div>\n",
              "  </div>\n",
              "  "
            ]
          },
          "metadata": {},
          "execution_count": 36
        }
      ]
    },
    {
      "cell_type": "code",
      "source": [
        "df.iloc[0:2,2:7]"
      ],
      "metadata": {
        "colab": {
          "base_uri": "https://localhost:8080/",
          "height": 112
        },
        "id": "5ARitR76u6Yv",
        "outputId": "07753ade-3d3c-4dae-ce13-9acf63694f86"
      },
      "execution_count": null,
      "outputs": [
        {
          "output_type": "execute_result",
          "data": {
            "text/plain": [
              "   Recovered  Deaths  Increase rate\n",
              "1         32      18      17.953321\n",
              "2         39      26      43.683409"
            ],
            "text/html": [
              "\n",
              "  <div id=\"df-9e0c69cc-2c4a-4535-b0d2-7f910e52f46d\">\n",
              "    <div class=\"colab-df-container\">\n",
              "      <div>\n",
              "<style scoped>\n",
              "    .dataframe tbody tr th:only-of-type {\n",
              "        vertical-align: middle;\n",
              "    }\n",
              "\n",
              "    .dataframe tbody tr th {\n",
              "        vertical-align: top;\n",
              "    }\n",
              "\n",
              "    .dataframe thead th {\n",
              "        text-align: right;\n",
              "    }\n",
              "</style>\n",
              "<table border=\"1\" class=\"dataframe\">\n",
              "  <thead>\n",
              "    <tr style=\"text-align: right;\">\n",
              "      <th></th>\n",
              "      <th>Recovered</th>\n",
              "      <th>Deaths</th>\n",
              "      <th>Increase rate</th>\n",
              "    </tr>\n",
              "  </thead>\n",
              "  <tbody>\n",
              "    <tr>\n",
              "      <th>1</th>\n",
              "      <td>32</td>\n",
              "      <td>18</td>\n",
              "      <td>17.953321</td>\n",
              "    </tr>\n",
              "    <tr>\n",
              "      <th>2</th>\n",
              "      <td>39</td>\n",
              "      <td>26</td>\n",
              "      <td>43.683409</td>\n",
              "    </tr>\n",
              "  </tbody>\n",
              "</table>\n",
              "</div>\n",
              "      <button class=\"colab-df-convert\" onclick=\"convertToInteractive('df-9e0c69cc-2c4a-4535-b0d2-7f910e52f46d')\"\n",
              "              title=\"Convert this dataframe to an interactive table.\"\n",
              "              style=\"display:none;\">\n",
              "        \n",
              "  <svg xmlns=\"http://www.w3.org/2000/svg\" height=\"24px\"viewBox=\"0 0 24 24\"\n",
              "       width=\"24px\">\n",
              "    <path d=\"M0 0h24v24H0V0z\" fill=\"none\"/>\n",
              "    <path d=\"M18.56 5.44l.94 2.06.94-2.06 2.06-.94-2.06-.94-.94-2.06-.94 2.06-2.06.94zm-11 1L8.5 8.5l.94-2.06 2.06-.94-2.06-.94L8.5 2.5l-.94 2.06-2.06.94zm10 10l.94 2.06.94-2.06 2.06-.94-2.06-.94-.94-2.06-.94 2.06-2.06.94z\"/><path d=\"M17.41 7.96l-1.37-1.37c-.4-.4-.92-.59-1.43-.59-.52 0-1.04.2-1.43.59L10.3 9.45l-7.72 7.72c-.78.78-.78 2.05 0 2.83L4 21.41c.39.39.9.59 1.41.59.51 0 1.02-.2 1.41-.59l7.78-7.78 2.81-2.81c.8-.78.8-2.07 0-2.86zM5.41 20L4 18.59l7.72-7.72 1.47 1.35L5.41 20z\"/>\n",
              "  </svg>\n",
              "      </button>\n",
              "      \n",
              "  <style>\n",
              "    .colab-df-container {\n",
              "      display:flex;\n",
              "      flex-wrap:wrap;\n",
              "      gap: 12px;\n",
              "    }\n",
              "\n",
              "    .colab-df-convert {\n",
              "      background-color: #E8F0FE;\n",
              "      border: none;\n",
              "      border-radius: 50%;\n",
              "      cursor: pointer;\n",
              "      display: none;\n",
              "      fill: #1967D2;\n",
              "      height: 32px;\n",
              "      padding: 0 0 0 0;\n",
              "      width: 32px;\n",
              "    }\n",
              "\n",
              "    .colab-df-convert:hover {\n",
              "      background-color: #E2EBFA;\n",
              "      box-shadow: 0px 1px 2px rgba(60, 64, 67, 0.3), 0px 1px 3px 1px rgba(60, 64, 67, 0.15);\n",
              "      fill: #174EA6;\n",
              "    }\n",
              "\n",
              "    [theme=dark] .colab-df-convert {\n",
              "      background-color: #3B4455;\n",
              "      fill: #D2E3FC;\n",
              "    }\n",
              "\n",
              "    [theme=dark] .colab-df-convert:hover {\n",
              "      background-color: #434B5C;\n",
              "      box-shadow: 0px 1px 3px 1px rgba(0, 0, 0, 0.15);\n",
              "      filter: drop-shadow(0px 1px 2px rgba(0, 0, 0, 0.3));\n",
              "      fill: #FFFFFF;\n",
              "    }\n",
              "  </style>\n",
              "\n",
              "      <script>\n",
              "        const buttonEl =\n",
              "          document.querySelector('#df-9e0c69cc-2c4a-4535-b0d2-7f910e52f46d button.colab-df-convert');\n",
              "        buttonEl.style.display =\n",
              "          google.colab.kernel.accessAllowed ? 'block' : 'none';\n",
              "\n",
              "        async function convertToInteractive(key) {\n",
              "          const element = document.querySelector('#df-9e0c69cc-2c4a-4535-b0d2-7f910e52f46d');\n",
              "          const dataTable =\n",
              "            await google.colab.kernel.invokeFunction('convertToInteractive',\n",
              "                                                     [key], {});\n",
              "          if (!dataTable) return;\n",
              "\n",
              "          const docLinkHtml = 'Like what you see? Visit the ' +\n",
              "            '<a target=\"_blank\" href=https://colab.research.google.com/notebooks/data_table.ipynb>data table notebook</a>'\n",
              "            + ' to learn more about interactive tables.';\n",
              "          element.innerHTML = '';\n",
              "          dataTable['output_type'] = 'display_data';\n",
              "          await google.colab.output.renderOutput(dataTable, element);\n",
              "          const docLink = document.createElement('div');\n",
              "          docLink.innerHTML = docLinkHtml;\n",
              "          element.appendChild(docLink);\n",
              "        }\n",
              "      </script>\n",
              "    </div>\n",
              "  </div>\n",
              "  "
            ]
          },
          "metadata": {},
          "execution_count": 37
        }
      ]
    },
    {
      "cell_type": "code",
      "source": [
        "b = df['Confirmed']\n",
        "b"
      ],
      "metadata": {
        "colab": {
          "base_uri": "https://localhost:8080/"
        },
        "id": "sIbQnMiOpEPQ",
        "outputId": "7f829008-a950-4930-ee7e-eb23d51dadd9"
      },
      "execution_count": null,
      "outputs": [
        {
          "output_type": "execute_result",
          "data": {
            "text/plain": [
              "1            657\n",
              "2            944\n",
              "3           1437\n",
              "4           2120\n",
              "5           2929\n",
              "         ...    \n",
              "811    500880363\n",
              "812    501920234\n",
              "813    502892186\n",
              "814    503606396\n",
              "815    504155459\n",
              "Name: Confirmed, Length: 815, dtype: int64"
            ]
          },
          "metadata": {},
          "execution_count": 28
        }
      ]
    },
    {
      "cell_type": "code",
      "source": [
        "a = df['Date']\n",
        "a"
      ],
      "metadata": {
        "colab": {
          "base_uri": "https://localhost:8080/"
        },
        "id": "U40L4DW1qnB5",
        "outputId": "8c2f1ec8-cec5-4e92-8fe7-84ebdff8c694"
      },
      "execution_count": null,
      "outputs": [
        {
          "output_type": "execute_result",
          "data": {
            "text/plain": [
              "1      2020-01-23\n",
              "2      2020-01-24\n",
              "3      2020-01-25\n",
              "4      2020-01-26\n",
              "5      2020-01-27\n",
              "          ...    \n",
              "811    2022-04-12\n",
              "812    2022-04-13\n",
              "813    2022-04-14\n",
              "814    2022-04-15\n",
              "815    2022-04-16\n",
              "Name: Date, Length: 815, dtype: object"
            ]
          },
          "metadata": {},
          "execution_count": 29
        }
      ]
    },
    {
      "cell_type": "code",
      "source": [
        "import matplotlib.pyplot as plt #Visualization\n",
        "plt.plot(a,b,color='blue',marker='*')\n",
        "plt.title('Statistics of recorded cases')\n",
        "plt.xlabel('Dates')\n",
        "plt.ylabel('Confirmed cases')"
      ],
      "metadata": {
        "colab": {
          "base_uri": "https://localhost:8080/",
          "height": 312
        },
        "id": "_aROLXfAqx9f",
        "outputId": "61a95682-cc99-43c3-adc6-3fe73eed2753"
      },
      "execution_count": null,
      "outputs": [
        {
          "output_type": "execute_result",
          "data": {
            "text/plain": [
              "Text(0, 0.5, 'Confirmed cases')"
            ]
          },
          "metadata": {},
          "execution_count": 33
        },
        {
          "output_type": "display_data",
          "data": {
            "text/plain": [
              "<Figure size 432x288 with 1 Axes>"
            ],
            "image/png": "[encoded data removed]"
          },
          "metadata": {
            "needs_background": "light"
          }
        }
      ]
    },
    {
      "cell_type": "code",
      "source": [
        "c = df['Deaths']\n",
        "c"
      ],
      "metadata": {
        "colab": {
          "base_uri": "https://localhost:8080/"
        },
        "id": "NHlxgRF3r6X6",
        "outputId": "b38c6ea2-29f3-4ba7-92cc-f1d78ad820b6"
      },
      "execution_count": null,
      "outputs": [
        {
          "output_type": "execute_result",
          "data": {
            "text/plain": [
              "1           18\n",
              "2           26\n",
              "3           42\n",
              "4           56\n",
              "5           82\n",
              "        ...   \n",
              "811    6185040\n",
              "812    6189593\n",
              "813    6193401\n",
              "814    6195647\n",
              "815    6197159\n",
              "Name: Deaths, Length: 815, dtype: int64"
            ]
          },
          "metadata": {},
          "execution_count": 34
        }
      ]
    },
    {
      "cell_type": "code",
      "source": [
        "plt.plot(a,c,color='red',marker='v')\n",
        "plt.title('Statistical data of deaths recorded')\n",
        "plt.xlabel('Dates')\n",
        "plt.ylabel('Deaths recorded')"
      ],
      "metadata": {
        "colab": {
          "base_uri": "https://localhost:8080/",
          "height": 312
        },
        "id": "6ciP8imsr-q7",
        "outputId": "c4690e3f-31ca-4ed1-abe4-dbe887fcf071"
      },
      "execution_count": null,
      "outputs": [
        {
          "output_type": "execute_result",
          "data": {
            "text/plain": [
              "Text(0, 0.5, 'Deaths recorded')"
            ]
          },
          "metadata": {},
          "execution_count": 35
        },
        {
          "output_type": "display_data",
          "data": {
            "text/plain": [
              "<Figure size 432x288 with 1 Axes>"
            ],
            "image/png": "[encoded data removed]"
          },
          "metadata": {
            "needs_background": "light"
          }
        }
      ]
    },
    {
      "cell_type": "code",
      "source": [
        "d = df['Increase rate']\n",
        "d"
      ],
      "metadata": {
        "colab": {
          "base_uri": "https://localhost:8080/"
        },
        "id": "WUYKRm2ivE8H",
        "outputId": "f59d4b3e-9b67-439e-fb2b-eca22a87b9b2"
      },
      "execution_count": null,
      "outputs": [
        {
          "output_type": "execute_result",
          "data": {
            "text/plain": [
              "1      17.953321\n",
              "2      43.683409\n",
              "3      52.224576\n",
              "4      47.529576\n",
              "5      38.160377\n",
              "         ...    \n",
              "811     0.207437\n",
              "812     0.207609\n",
              "813     0.193647\n",
              "814     0.142021\n",
              "815     0.109026\n",
              "Name: Increase rate, Length: 815, dtype: float64"
            ]
          },
          "metadata": {},
          "execution_count": 51
        }
      ]
    },
    {
      "cell_type": "code",
      "source": [
        "plt.plot(a,d,color='skyblue',marker='o')\n",
        "plt.title('Increasing rate per day')\n",
        "plt.xlabel('Date')\n",
        "plt.ylabel('Increasing rate')\n"
      ],
      "metadata": {
        "colab": {
          "base_uri": "https://localhost:8080/",
          "height": 312
        },
        "id": "3oSIhpAzvP1h",
        "outputId": "79c0a14d-ba51-45dc-a47b-f613fa9f58cd"
      },
      "execution_count": null,
      "outputs": [
        {
          "output_type": "execute_result",
          "data": {
            "text/plain": [
              "Text(0, 0.5, 'Increasing rate')"
            ]
          },
          "metadata": {},
          "execution_count": 39
        },
        {
          "output_type": "display_data",
          "data": {
            "text/plain": [
              "<Figure size 432x288 with 1 Axes>"
            ],
            "image/png": "[encoded data removed]"
          },
          "metadata": {
            "needs_background": "light"
          }
        }
      ]
    },
    {
      "cell_type": "code",
      "source": [
        "from sklearn.linear_model import LinearRegression\n",
        "model = LinearRegression()"
      ],
      "metadata": {
        "id": "kJGwMph0xjh6"
      },
      "execution_count": null,
      "outputs": []
    },
    {
      "cell_type": "code",
      "source": [
        "x = df.iloc[0:816,4:5]\n",
        "x"
      ],
      "metadata": {
        "colab": {
          "base_uri": "https://localhost:8080/",
          "height": 424
        },
        "id": "1MfUoGJ7x2gB",
        "outputId": "47c4f04d-1186-4e9c-bb17-c982d2012af5"
      },
      "execution_count": null,
      "outputs": [
        {
          "output_type": "execute_result",
          "data": {
            "text/plain": [
              "     Increase rate\n",
              "1        17.953321\n",
              "2        43.683409\n",
              "3        52.224576\n",
              "4        47.529576\n",
              "5        38.160377\n",
              "..             ...\n",
              "811       0.207437\n",
              "812       0.207609\n",
              "813       0.193647\n",
              "814       0.142021\n",
              "815       0.109026\n",
              "\n",
              "[815 rows x 1 columns]"
            ],
            "text/html": [
              "\n",
              "  <div id=\"df-e1f609c2-4a7e-4c3d-b563-1201e727ef63\">\n",
              "    <div class=\"colab-df-container\">\n",
              "      <div>\n",
              "<style scoped>\n",
              "    .dataframe tbody tr th:only-of-type {\n",
              "        vertical-align: middle;\n",
              "    }\n",
              "\n",
              "    .dataframe tbody tr th {\n",
              "        vertical-align: top;\n",
              "    }\n",
              "\n",
              "    .dataframe thead th {\n",
              "        text-align: right;\n",
              "    }\n",
              "</style>\n",
              "<table border=\"1\" class=\"dataframe\">\n",
              "  <thead>\n",
              "    <tr style=\"text-align: right;\">\n",
              "      <th></th>\n",
              "      <th>Increase rate</th>\n",
              "    </tr>\n",
              "  </thead>\n",
              "  <tbody>\n",
              "    <tr>\n",
              "      <th>1</th>\n",
              "      <td>17.953321</td>\n",
              "    </tr>\n",
              "    <tr>\n",
              "      <th>2</th>\n",
              "      <td>43.683409</td>\n",
              "    </tr>\n",
              "    <tr>\n",
              "      <th>3</th>\n",
              "      <td>52.224576</td>\n",
              "    </tr>\n",
              "    <tr>\n",
              "      <th>4</th>\n",
              "      <td>47.529576</td>\n",
              "    </tr>\n",
              "    <tr>\n",
              "      <th>5</th>\n",
              "      <td>38.160377</td>\n",
              "    </tr>\n",
              "    <tr>\n",
              "      <th>...</th>\n",
              "      <td>...</td>\n",
              "    </tr>\n",
              "    <tr>\n",
              "      <th>811</th>\n",
              "      <td>0.207437</td>\n",
              "    </tr>\n",
              "    <tr>\n",
              "      <th>812</th>\n",
              "      <td>0.207609</td>\n",
              "    </tr>\n",
              "    <tr>\n",
              "      <th>813</th>\n",
              "      <td>0.193647</td>\n",
              "    </tr>\n",
              "    <tr>\n",
              "      <th>814</th>\n",
              "      <td>0.142021</td>\n",
              "    </tr>\n",
              "    <tr>\n",
              "      <th>815</th>\n",
              "      <td>0.109026</td>\n",
              "    </tr>\n",
              "  </tbody>\n",
              "</table>\n",
              "<p>815 rows × 1 columns</p>\n",
              "</div>\n",
              "      <button class=\"colab-df-convert\" onclick=\"convertToInteractive('df-e1f609c2-4a7e-4c3d-b563-1201e727ef63')\"\n",
              "              title=\"Convert this dataframe to an interactive table.\"\n",
              "              style=\"display:none;\">\n",
              "        \n",
              "  <svg xmlns=\"http://www.w3.org/2000/svg\" height=\"24px\"viewBox=\"0 0 24 24\"\n",
              "       width=\"24px\">\n",
              "    <path d=\"M0 0h24v24H0V0z\" fill=\"none\"/>\n",
              "    <path d=\"M18.56 5.44l.94 2.06.94-2.06 2.06-.94-2.06-.94-.94-2.06-.94 2.06-2.06.94zm-11 1L8.5 8.5l.94-2.06 2.06-.94-2.06-.94L8.5 2.5l-.94 2.06-2.06.94zm10 10l.94 2.06.94-2.06 2.06-.94-2.06-.94-.94-2.06-.94 2.06-2.06.94z\"/><path d=\"M17.41 7.96l-1.37-1.37c-.4-.4-.92-.59-1.43-.59-.52 0-1.04.2-1.43.59L10.3 9.45l-7.72 7.72c-.78.78-.78 2.05 0 2.83L4 21.41c.39.39.9.59 1.41.59.51 0 1.02-.2 1.41-.59l7.78-7.78 2.81-2.81c.8-.78.8-2.07 0-2.86zM5.41 20L4 18.59l7.72-7.72 1.47 1.35L5.41 20z\"/>\n",
              "  </svg>\n",
              "      </button>\n",
              "      \n",
              "  <style>\n",
              "    .colab-df-container {\n",
              "      display:flex;\n",
              "      flex-wrap:wrap;\n",
              "      gap: 12px;\n",
              "    }\n",
              "\n",
              "    .colab-df-convert {\n",
              "      background-color: #E8F0FE;\n",
              "      border: none;\n",
              "      border-radius: 50%;\n",
              "      cursor: pointer;\n",
              "      display: none;\n",
              "      fill: #1967D2;\n",
              "      height: 32px;\n",
              "      padding: 0 0 0 0;\n",
              "      width: 32px;\n",
              "    }\n",
              "\n",
              "    .colab-df-convert:hover {\n",
              "      background-color: #E2EBFA;\n",
              "      box-shadow: 0px 1px 2px rgba(60, 64, 67, 0.3), 0px 1px 3px 1px rgba(60, 64, 67, 0.15);\n",
              "      fill: #174EA6;\n",
              "    }\n",
              "\n",
              "    [theme=dark] .colab-df-convert {\n",
              "      background-color: #3B4455;\n",
              "      fill: #D2E3FC;\n",
              "    }\n",
              "\n",
              "    [theme=dark] .colab-df-convert:hover {\n",
              "      background-color: #434B5C;\n",
              "      box-shadow: 0px 1px 3px 1px rgba(0, 0, 0, 0.15);\n",
              "      filter: drop-shadow(0px 1px 2px rgba(0, 0, 0, 0.3));\n",
              "      fill: #FFFFFF;\n",
              "    }\n",
              "  </style>\n",
              "\n",
              "      <script>\n",
              "        const buttonEl =\n",
              "          document.querySelector('#df-e1f609c2-4a7e-4c3d-b563-1201e727ef63 button.colab-df-convert');\n",
              "        buttonEl.style.display =\n",
              "          google.colab.kernel.accessAllowed ? 'block' : 'none';\n",
              "\n",
              "        async function convertToInteractive(key) {\n",
              "          const element = document.querySelector('#df-e1f609c2-4a7e-4c3d-b563-1201e727ef63');\n",
              "          const dataTable =\n",
              "            await google.colab.kernel.invokeFunction('convertToInteractive',\n",
              "                                                     [key], {});\n",
              "          if (!dataTable) return;\n",
              "\n",
              "          const docLinkHtml = 'Like what you see? Visit the ' +\n",
              "            '<a target=\"_blank\" href=https://colab.research.google.com/notebooks/data_table.ipynb>data table notebook</a>'\n",
              "            + ' to learn more about interactive tables.';\n",
              "          element.innerHTML = '';\n",
              "          dataTable['output_type'] = 'display_data';\n",
              "          await google.colab.output.renderOutput(dataTable, element);\n",
              "          const docLink = document.createElement('div');\n",
              "          docLink.innerHTML = docLinkHtml;\n",
              "          element.appendChild(docLink);\n",
              "        }\n",
              "      </script>\n",
              "    </div>\n",
              "  </div>\n",
              "  "
            ]
          },
          "metadata": {},
          "execution_count": 54
        }
      ]
    },
    {
      "cell_type": "code",
      "source": [
        "y = df.iloc[:,1]\n",
        "y"
      ],
      "metadata": {
        "colab": {
          "base_uri": "https://localhost:8080/"
        },
        "id": "b0brdHefyT_E",
        "outputId": "9d1b4db0-4569-4029-bcab-cad53d9dd843"
      },
      "execution_count": null,
      "outputs": [
        {
          "output_type": "execute_result",
          "data": {
            "text/plain": [
              "1            657\n",
              "2            944\n",
              "3           1437\n",
              "4           2120\n",
              "5           2929\n",
              "         ...    \n",
              "811    500880363\n",
              "812    501920234\n",
              "813    502892186\n",
              "814    503606396\n",
              "815    504155459\n",
              "Name: Confirmed, Length: 815, dtype: int64"
            ]
          },
          "metadata": {},
          "execution_count": 43
        }
      ]
    },
    {
      "cell_type": "code",
      "source": [
        "from sklearn.linear_model import LinearRegression #Regression\n",
        "model = LinearRegression()"
      ],
      "metadata": {
        "id": "OMsSzDRByf9R"
      },
      "execution_count": null,
      "outputs": []
    },
    {
      "cell_type": "code",
      "source": [
        "model.fit(x,y)"
      ],
      "metadata": {
        "colab": {
          "base_uri": "https://localhost:8080/"
        },
        "id": "VGV5ZV85ywjM",
        "outputId": "aeab6049-d232-4360-c45e-132cbd981b4c"
      },
      "execution_count": null,
      "outputs": [
        {
          "output_type": "execute_result",
          "data": {
            "text/plain": [
              "LinearRegression()"
            ]
          },
          "metadata": {},
          "execution_count": 55
        }
      ]
    },
    {
      "cell_type": "code",
      "source": [
        "y_pred = model.predict(x)\n",
        "y_pred"
      ],
      "metadata": {
        "colab": {
          "base_uri": "https://localhost:8080/"
        },
        "id": "QUIylL3S0Jok",
        "outputId": "a1db6bdf-26a6-4a8e-927b-9c35675b28d8"
      },
      "execution_count": null,
      "outputs": [
        {
          "output_type": "execute_result",
          "data": {
            "text/plain": [
              "array([ 3.61840429e+07, -1.38751967e+08, -1.96822412e+08, -1.64901623e+08,\n",
              "       -1.01201486e+08, -4.57111957e+08,  8.64806307e+07, -6.96687395e+07,\n",
              "        1.87526625e+07,  1.36667017e+07, -1.09969995e+08,  3.26938382e+07,\n",
              "        2.10860111e+07,  5.17073316e+07,  8.04790392e+07,  7.89270454e+07,\n",
              "        1.04270617e+08,  1.02747415e+08,  1.14079803e+08,  1.25771101e+08,\n",
              "        1.51905056e+08, -6.95052755e+07,  8.47451786e+07,  1.36471783e+08,\n",
              "        1.36753704e+08,  1.38824828e+08,  1.40783892e+08,  1.53723436e+08,\n",
              "        1.53205141e+08,  1.52626732e+08,  1.42657525e+08,  1.54942722e+08,\n",
              "        1.53357746e+08,  1.50948544e+08,  1.50019900e+08,  1.47010573e+08,\n",
              "        1.46544012e+08,  1.43090282e+08,  1.39437712e+08,  1.42997052e+08,\n",
              "        1.38608103e+08,  1.41250189e+08,  1.38868966e+08,  1.30994540e+08,\n",
              "        1.30604693e+08,  1.33580991e+08,  1.31495514e+08,  1.29641131e+08,\n",
              "        1.15321231e+08,  1.21977850e+08,  9.05039893e+07,  1.07516798e+08,\n",
              "        1.09680415e+08,  9.97977183e+07,  1.01536753e+08,  9.78272444e+07,\n",
              "        7.30327326e+07,  7.57431587e+07,  7.75215793e+07,  8.15100566e+07,\n",
              "        7.24261976e+07,  8.35013333e+07,  7.64535263e+07,  7.05263615e+07,\n",
              "        7.73589145e+07,  8.00697860e+07,  1.01227863e+08,  9.72029441e+07,\n",
              "        9.09183860e+07,  9.45346557e+07,  9.94635963e+07,  1.03027298e+08,\n",
              "        1.21715656e+08,  1.16689879e+08,  1.17731895e+08,  1.22849223e+08,\n",
              "        1.18251179e+08,  1.18276331e+08,  1.20591848e+08,  1.27154650e+08,\n",
              "        1.11409544e+08,  1.31830989e+08,  1.28238373e+08,  1.31788736e+08,\n",
              "        1.27346552e+08,  1.30753534e+08,  1.34720539e+08,  1.35951766e+08,\n",
              "        1.36871685e+08,  1.37423562e+08,  1.36542000e+08,  1.37039163e+08,\n",
              "        1.37327183e+08,  1.38079397e+08,  1.41623877e+08,  1.42009146e+08,\n",
              "        1.41284609e+08,  1.41372853e+08,  1.40398396e+08,  1.39776288e+08,\n",
              "        1.42423043e+08,  1.43610463e+08,  1.43296031e+08,  1.43191621e+08,\n",
              "        1.41502783e+08,  1.42239698e+08,  1.42298927e+08,  1.43673978e+08,\n",
              "        1.45552147e+08,  1.45665100e+08,  1.44368434e+08,  1.44809219e+08,\n",
              "        1.43298403e+08,  1.43515720e+08,  1.44163331e+08,  1.46751341e+08,\n",
              "        1.45405599e+08,  1.44689221e+08,  1.43625776e+08,  1.43881697e+08,\n",
              "        1.43983015e+08,  1.44642295e+08,  1.46336884e+08,  1.47182924e+08,\n",
              "        1.46778495e+08,  1.45794246e+08,  1.43974015e+08,  1.44037925e+08,\n",
              "        1.42751284e+08,  1.46720980e+08,  1.47219497e+08,  1.44914016e+08,\n",
              "        1.46434460e+08,  1.43833009e+08,  1.44588642e+08,  1.45274772e+08,\n",
              "        1.47337601e+08,  1.48274048e+08,  1.46202037e+08,  1.45398655e+08,\n",
              "        1.45755020e+08,  1.46736016e+08,  1.46354559e+08,  1.46737022e+08,\n",
              "        1.47534919e+08,  1.46062378e+08,  1.46367026e+08,  1.46604315e+08,\n",
              "        1.43724338e+08,  1.43652473e+08,  1.51097156e+08,  1.47432744e+08,\n",
              "        1.45638884e+08,  1.45644341e+08,  1.45294511e+08,  1.44614637e+08,\n",
              "        1.46001527e+08,  1.46755594e+08,  1.48018530e+08,  1.46096259e+08,\n",
              "        1.44290124e+08,  1.45228775e+08,  1.45606679e+08,  1.46623566e+08,\n",
              "        1.47041018e+08,  1.48301096e+08,  1.45996448e+08,  1.45902118e+08,\n",
              "        1.45610033e+08,  1.45343272e+08,  1.46689767e+08,  1.47948983e+08,\n",
              "        1.48032827e+08,  1.46781309e+08,  1.46563860e+08,  1.45974640e+08,\n",
              "        1.46558364e+08,  1.46861570e+08,  1.48168917e+08,  1.48495463e+08,\n",
              "        1.47004300e+08,  1.45734332e+08,  1.45752721e+08,  1.45808400e+08,\n",
              "        1.47481174e+08,  1.49260464e+08,  1.48453480e+08,  1.47342377e+08,\n",
              "        1.47275147e+08,  1.46993535e+08,  1.46940049e+08,  1.48725956e+08,\n",
              "        1.49449104e+08,  1.50499628e+08,  1.48364495e+08,  1.48155252e+08,\n",
              "        1.47879241e+08,  1.48188762e+08,  1.48939006e+08,  1.50180075e+08,\n",
              "        1.50273497e+08,  1.49258692e+08,  1.49073795e+08,  1.48692174e+08,\n",
              "        1.48275151e+08,  1.50276542e+08,  1.51607757e+08,  1.51585345e+08,\n",
              "        1.50194269e+08,  1.49748532e+08,  1.50026909e+08,  1.50422070e+08,\n",
              "        1.50444395e+08,  1.52323015e+08,  1.51640737e+08,  1.51200340e+08,\n",
              "        1.50249807e+08,  1.50178984e+08,  1.50366292e+08,  1.51090057e+08,\n",
              "        1.52289345e+08,  1.51138190e+08,  1.51135800e+08,  1.50822629e+08,\n",
              "        1.50805119e+08,  1.50476782e+08,  1.51258854e+08,  1.52471840e+08,\n",
              "        1.52811310e+08,  1.52128598e+08,  1.51232797e+08,  1.50835948e+08,\n",
              "        1.50633583e+08,  1.51363316e+08,  1.52390085e+08,  1.52008338e+08,\n",
              "        1.51741525e+08,  1.51253306e+08,  1.51079677e+08,  1.50906587e+08,\n",
              "        1.51725180e+08,  1.52632423e+08,  1.52574892e+08,  1.52080808e+08,\n",
              "        1.51558357e+08,  1.51422433e+08,  1.51299084e+08,  1.52291390e+08,\n",
              "        1.53145883e+08,  1.52865879e+08,  1.52495381e+08,  1.51707260e+08,\n",
              "        1.51871995e+08,  1.51728993e+08,  1.52413336e+08,  1.53193022e+08,\n",
              "        1.52249769e+08,  1.52203908e+08,  1.51633307e+08,  1.51503210e+08,\n",
              "        1.51554974e+08,  1.51696634e+08,  1.52974044e+08,  1.53015217e+08,\n",
              "        1.52515093e+08,  1.51478932e+08,  1.51072552e+08,  1.51091581e+08,\n",
              "        1.51819296e+08,  1.52586004e+08,  1.51907486e+08,  1.51718789e+08,\n",
              "        1.50939526e+08,  1.50310613e+08,  1.50216116e+08,  1.50895320e+08,\n",
              "        1.52534759e+08,  1.50626807e+08,  1.50955382e+08,  1.50213687e+08,\n",
              "        1.49849025e+08,  1.49624064e+08,  1.51203739e+08,  1.51795259e+08,\n",
              "        1.50279842e+08,  1.50120671e+08,  1.51233768e+08,  1.49524267e+08,\n",
              "        1.49598790e+08,  1.49983980e+08,  1.51594713e+08,  1.51417203e+08,\n",
              "        1.50667637e+08,  1.50023989e+08,  1.49896681e+08,  1.49726824e+08,\n",
              "        1.50792154e+08,  1.52087468e+08,  1.51737882e+08,  1.50833436e+08,\n",
              "        1.50659119e+08,  1.50355942e+08,  1.50195953e+08,  1.51234927e+08,\n",
              "        1.52430972e+08,  1.52122064e+08,  1.51466502e+08,  1.51239638e+08,\n",
              "        1.51577554e+08,  1.50519184e+08,  1.51556138e+08,  1.52839786e+08,\n",
              "        1.52820170e+08,  1.51662833e+08,  1.51449731e+08,  1.50975779e+08,\n",
              "        1.50994030e+08,  1.51613188e+08,  1.52697264e+08,  1.52851090e+08,\n",
              "        1.51918326e+08,  1.51626226e+08,  1.43508854e+08,  1.51420631e+08,\n",
              "        1.52042345e+08,  1.53145361e+08,  1.53074097e+08,  1.52217653e+08,\n",
              "        1.51615571e+08,  1.51487992e+08,  1.51706915e+08,  1.52543048e+08,\n",
              "        1.53375015e+08,  1.53425416e+08,  1.52531874e+08,  1.52310905e+08,\n",
              "        1.52253552e+08,  1.53811934e+08,  1.53944883e+08,  1.54763513e+08,\n",
              "        1.54063379e+08,  1.52651608e+08,  1.52243070e+08,  1.51358390e+08,\n",
              "        1.53472988e+08,  1.53565062e+08,  1.54081741e+08,  1.53819093e+08,\n",
              "        1.52383123e+08,  1.52045950e+08,  1.51482542e+08,  1.51811764e+08,\n",
              "        1.52472798e+08,  1.53700020e+08,  1.53638422e+08,  1.53088721e+08,\n",
              "        1.52742081e+08,  1.52660555e+08,  1.52537208e+08,  1.53498373e+08,\n",
              "        1.54463645e+08,  1.54563837e+08,  1.54040755e+08,  1.53406221e+08,\n",
              "        1.53563541e+08,  1.53631029e+08,  1.54261738e+08,  1.55076087e+08,\n",
              "        1.54962256e+08,  1.54430089e+08,  1.54181804e+08,  1.54114413e+08,\n",
              "        1.54310136e+08,  1.54825459e+08,  1.55626545e+08,  1.55334139e+08,\n",
              "        1.55198288e+08,  1.54818162e+08,  1.55182782e+08,  1.54776480e+08,\n",
              "        1.55444594e+08,  1.55994131e+08,  1.56080617e+08,  1.55656775e+08,\n",
              "        1.55456344e+08,  1.55438869e+08,  1.55539448e+08,  1.55863183e+08,\n",
              "        1.56320093e+08,  1.56503484e+08,  1.56016493e+08,  1.55856249e+08,\n",
              "        1.55711862e+08,  1.55729616e+08,  1.55948667e+08,  1.56300257e+08,\n",
              "        1.56455361e+08,  1.55861879e+08,  1.55557655e+08,  1.55516760e+08,\n",
              "        1.55596769e+08,  1.55871076e+08,  1.56409074e+08,  1.56436506e+08,\n",
              "        1.56390781e+08,  1.55636654e+08,  1.55549042e+08,  1.55611065e+08,\n",
              "        1.55828431e+08,  1.56073039e+08,  1.56482414e+08,  1.55852435e+08,\n",
              "        1.55603560e+08,  1.55433407e+08,  1.55448308e+08,  1.55651030e+08,\n",
              "        1.56176604e+08,  1.56252031e+08,  1.55617397e+08,  1.55183966e+08,\n",
              "        1.55181117e+08,  1.55113627e+08,  1.55482400e+08,  1.55823239e+08,\n",
              "        1.55939169e+08,  1.55469550e+08,  1.54811571e+08,  1.54708225e+08,\n",
              "        1.54787698e+08,  1.55103984e+08,  1.55616165e+08,  1.55802111e+08,\n",
              "        1.55266494e+08,  1.54680576e+08,  1.54514431e+08,  1.54876271e+08,\n",
              "        1.55432883e+08,  1.55349009e+08,  1.55692400e+08,  1.55129289e+08,\n",
              "        1.54848411e+08,  1.53989373e+08,  1.54465451e+08,  1.54869181e+08,\n",
              "        1.54699967e+08,  1.55195398e+08,  1.54457471e+08,  1.54240492e+08,\n",
              "        1.54225432e+08,  1.54055550e+08,  1.54402771e+08,  1.54876750e+08,\n",
              "        1.54941747e+08,  1.54242641e+08,  1.54031431e+08,  1.54007121e+08,\n",
              "        1.53997567e+08,  1.54409851e+08,  1.54874955e+08,  1.55080188e+08,\n",
              "        1.54399537e+08,  1.54151738e+08,  1.54192552e+08,  1.54231226e+08,\n",
              "        1.54688187e+08,  1.55186671e+08,  1.55191537e+08,  1.54779397e+08,\n",
              "        1.54547968e+08,  1.54436064e+08,  1.54620538e+08,  1.54838676e+08,\n",
              "        1.55455861e+08,  1.55571639e+08,  1.55150416e+08,  1.54987215e+08,\n",
              "        1.55140578e+08,  1.55261428e+08,  1.55601484e+08,  1.55967239e+08,\n",
              "        1.55989449e+08,  1.55679138e+08,  1.55469964e+08,  1.57087071e+08,\n",
              "        1.55676018e+08,  1.55905765e+08,  1.56285008e+08,  1.56415888e+08,\n",
              "        1.56081967e+08,  1.55950507e+08,  1.56044406e+08,  1.56218239e+08,\n",
              "        1.56324505e+08,  1.56690740e+08,  1.56707318e+08,  1.56420215e+08,\n",
              "        1.56315674e+08,  1.56348234e+08,  1.56572249e+08,  1.56687512e+08,\n",
              "        1.56979971e+08,  1.56988339e+08,  1.56798907e+08,  1.56615981e+08,\n",
              "        1.56484014e+08,  1.56608504e+08,  1.56821135e+08,  1.57077294e+08,\n",
              "        1.57054413e+08,  1.56804732e+08,  1.56753842e+08,  1.56729058e+08,\n",
              "        1.56705199e+08,  1.56918229e+08,  1.57092144e+08,  1.57120049e+08,\n",
              "        1.56690786e+08,  1.56744439e+08,  1.56701252e+08,  1.56672274e+08,\n",
              "        1.56881850e+08,  1.57080157e+08,  1.56999527e+08,  1.56821266e+08,\n",
              "        1.56757148e+08,  1.56625437e+08,  1.56604373e+08,  1.56859576e+08,\n",
              "        1.57033643e+08,  1.56857041e+08,  1.56587637e+08,  1.56538726e+08,\n",
              "        1.56481606e+08,  1.56368920e+08,  1.56708768e+08,  1.56899438e+08,\n",
              "        1.56678252e+08,  1.56342588e+08,  1.56304654e+08,  1.56171608e+08,\n",
              "        1.56107675e+08,  1.56491823e+08,  1.56743288e+08,  1.56515246e+08,\n",
              "        1.56355319e+08,  1.56278359e+08,  1.56250179e+08,  1.55682651e+08,\n",
              "        1.56727436e+08,  1.56684743e+08,  1.56367424e+08,  1.56134082e+08,\n",
              "        1.55990101e+08,  1.56021686e+08,  1.55720134e+08,  1.56463692e+08,\n",
              "        1.56587396e+08,  1.56306603e+08,  1.56083642e+08,  1.55934814e+08,\n",
              "        1.55925647e+08,  1.55480095e+08,  1.56352382e+08,  1.56671526e+08,\n",
              "        1.56192989e+08,  1.56093258e+08,  1.55818402e+08,  1.55908536e+08,\n",
              "        1.55599763e+08,  1.56414191e+08,  1.56704942e+08,  1.56103967e+08,\n",
              "        1.56022059e+08,  1.55854346e+08,  1.55940481e+08,  1.55711736e+08,\n",
              "        1.56426749e+08,  1.56791168e+08,  1.56098755e+08,  1.56087858e+08,\n",
              "        1.55901902e+08,  1.55912880e+08,  1.55872641e+08,  1.56464358e+08,\n",
              "        1.56821318e+08,  1.56196919e+08,  1.56306060e+08,  1.56006143e+08,\n",
              "        1.56147043e+08,  1.56005565e+08,  1.56685498e+08,  1.56843453e+08,\n",
              "        1.56836149e+08,  1.56235279e+08,  1.56299948e+08,  1.56296657e+08,\n",
              "        1.56243547e+08,  1.56798031e+08,  1.57107065e+08,  1.56550018e+08,\n",
              "        1.56588878e+08,  1.56543344e+08,  1.56487833e+08,  1.56383959e+08,\n",
              "        1.56664252e+08,  1.57149647e+08,  1.56714185e+08,  1.56797580e+08,\n",
              "        1.56666540e+08,  1.56631832e+08,  1.56631075e+08,  1.57131559e+08,\n",
              "        1.57186466e+08,  1.56872551e+08,  1.56929023e+08,  1.56817273e+08,\n",
              "        1.56823828e+08,  1.56731547e+08,  1.57212769e+08,  1.57338183e+08,\n",
              "        1.56992405e+08,  1.57028774e+08,  1.56787210e+08,  1.56922368e+08,\n",
              "        1.56882991e+08,  1.57253499e+08,  1.57326436e+08,  1.57178664e+08,\n",
              "        1.56998934e+08,  1.56948049e+08,  1.56960673e+08,  1.56948206e+08,\n",
              "        1.57255770e+08,  1.57343656e+08,  1.57091259e+08,  1.57031228e+08,\n",
              "        1.56909876e+08,  1.56951158e+08,  1.56868464e+08,  1.57176443e+08,\n",
              "        1.57352761e+08,  1.57060726e+08,  1.57062972e+08,  1.56819530e+08,\n",
              "        1.56909667e+08,  1.56876566e+08,  1.57160552e+08,  1.57246325e+08,\n",
              "        1.57089504e+08,  1.57138298e+08,  1.56810506e+08,  1.56825890e+08,\n",
              "        1.56816925e+08,  1.57056263e+08,  1.57266647e+08,  1.56968930e+08,\n",
              "        1.56981334e+08,  1.56686957e+08,  1.56842352e+08,  1.56637935e+08,\n",
              "        1.57062727e+08,  1.57232382e+08,  1.56837978e+08,  1.56896943e+08,\n",
              "        1.56597555e+08,  1.56594380e+08,  1.56612617e+08,  1.56922942e+08,\n",
              "        1.57135893e+08,  1.56660786e+08,  1.56694118e+08,  1.56512023e+08,\n",
              "        1.56680343e+08,  1.56652906e+08,  1.56987084e+08,  1.57127228e+08,\n",
              "        1.56608752e+08,  1.56692101e+08,  1.56425339e+08,  1.56427113e+08,\n",
              "        1.56371893e+08,  1.56874836e+08,  1.57071602e+08,  1.56717046e+08,\n",
              "        1.56615137e+08,  1.56434210e+08,  1.56478974e+08,  1.56492987e+08,\n",
              "        1.56933621e+08,  1.57099570e+08,  1.56712114e+08,  1.56646570e+08,\n",
              "        1.56397129e+08,  1.56394007e+08,  1.56337197e+08,  1.56831979e+08,\n",
              "        1.56978165e+08,  1.56426633e+08,  1.56382541e+08,  1.56008807e+08,\n",
              "        1.55780478e+08,  1.56069935e+08,  1.56538391e+08,  1.56838897e+08,\n",
              "        1.55175189e+08,  1.55048334e+08,  1.54175754e+08,  1.53612974e+08,\n",
              "        1.54110002e+08,  1.55360464e+08,  1.56089339e+08,  1.52731896e+08,\n",
              "        1.52449700e+08,  1.52328380e+08,  1.52188271e+08,  1.51595977e+08,\n",
              "        1.53371471e+08,  1.53723899e+08,  1.51211250e+08,  1.51624759e+08,\n",
              "        1.50777717e+08,  1.51438719e+08,  1.51222565e+08,  1.53011553e+08,\n",
              "        1.53715197e+08,  1.52746378e+08,  1.50536416e+08,  1.49956975e+08,\n",
              "        1.50824978e+08,  1.50647179e+08,  1.52781841e+08,  1.53471678e+08,\n",
              "        1.51640778e+08,  1.51267356e+08,  1.51316875e+08,  1.51210647e+08,\n",
              "        1.51535468e+08,  1.53214743e+08,  1.54025117e+08,  1.51932073e+08,\n",
              "        1.52575535e+08,  1.52572512e+08,  1.52647497e+08,  1.53092275e+08,\n",
              "        1.54251367e+08,  1.55013577e+08,  1.53784252e+08,  1.53764485e+08,\n",
              "        1.54109440e+08,  1.53559182e+08,  1.54191090e+08,  1.55051318e+08,\n",
              "        1.55732236e+08,  1.55441049e+08,  1.55156506e+08,  1.54584671e+08,\n",
              "        1.54898133e+08,  1.55040496e+08,  1.55620949e+08,  1.56118172e+08,\n",
              "        1.56011658e+08,  1.55514468e+08,  1.55183732e+08,  1.55448936e+08,\n",
              "        1.55667338e+08,  1.56003080e+08,  1.56452161e+08,  1.56126140e+08,\n",
              "        1.55720527e+08,  1.55672930e+08,  1.55534718e+08,  1.55549239e+08,\n",
              "        1.55995247e+08,  1.56395567e+08,  1.56080078e+08,  1.55589155e+08,\n",
              "        1.55465617e+08,  1.55444469e+08,  1.55471689e+08,  1.55635418e+08,\n",
              "        1.56340281e+08,  1.55829205e+08,  1.55581821e+08,  1.54972327e+08,\n",
              "        1.55237960e+08,  1.55454309e+08,  1.55763074e+08,  1.56697256e+08,\n",
              "        1.56122220e+08,  1.55401890e+08,  1.55704572e+08,  1.55744415e+08,\n",
              "        1.55625871e+08,  1.56323092e+08,  1.56957153e+08,  1.56139969e+08,\n",
              "        1.55786202e+08,  1.56014425e+08,  1.55667127e+08,  1.56625342e+08,\n",
              "        1.56795561e+08,  1.57153691e+08,  1.56994364e+08,  1.56370198e+08,\n",
              "        1.56244781e+08,  1.56577207e+08,  1.56612147e+08,  1.57196751e+08,\n",
              "        1.57471259e+08,  1.56917632e+08,  1.56836338e+08,  1.56835172e+08,\n",
              "        1.56930098e+08,  1.57281099e+08,  1.57505423e+08])"
            ]
          },
          "metadata": {},
          "execution_count": 56
        }
      ]
    },
    {
      "cell_type": "code",
      "source": [
        "from sklearn.datasets import make_classification\n",
        "from sklearn.model_selection import train_test_split\n",
        "from sklearn.metrics import accuracy_score\n",
        "from sklearn.linear_model import LogisticRegression\n",
        "nb_samples = 1000\n",
        "x, y = make_classification(n_samples=nb_samples, n_features=2, n_informative=2, n_redundant=0, n_clusters_per_class=1)\n",
        "xtrain, xtest, ytrain, ytest = train_test_split(x, y, test_size=0.2, random_state=42)\n",
        "model = LogisticRegression()\n",
        "model.fit(xtrain, ytrain)"
      ],
      "metadata": {
        "colab": {
          "base_uri": "https://localhost:8080/"
        },
        "id": "sCc9YYuI1UDB",
        "outputId": "ebaf3435-7c9d-423c-cd6d-2f47443ad149"
      },
      "execution_count": null,
      "outputs": [
        {
          "output_type": "execute_result",
          "data": {
            "text/plain": [
              "LogisticRegression()"
            ]
          },
          "metadata": {},
          "execution_count": 58
        }
      ]
    },
    {
      "cell_type": "code",
      "source": [
        "print(accuracy_score(ytest, model.predict(xtest))) #calculating accuracy"
      ],
      "metadata": {
        "colab": {
          "base_uri": "https://localhost:8080/"
        },
        "id": "5Kgy8Ti512UM",
        "outputId": "4a8e5f83-d816-4fc9-8aa0-4047097af4a0"
      },
      "execution_count": null,
      "outputs": [
        {
          "output_type": "stream",
          "name": "stdout",
          "text": [
            "0.9\n"
          ]
        }
      ]
    }
  ]
}